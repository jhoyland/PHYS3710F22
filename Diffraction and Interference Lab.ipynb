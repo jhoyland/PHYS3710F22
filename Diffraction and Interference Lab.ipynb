{
 "cells": [
  {
   "cell_type": "markdown",
   "metadata": {},
   "source": [
    "Diffraction and Interference Lab"
   ]
  },
  {
   "cell_type": "code",
   "execution_count": 2,
   "metadata": {},
   "outputs": [],
   "source": [
    "import math\n",
    "import numpy as np"
   ]
  },
  {
   "cell_type": "code",
   "execution_count": 64,
   "metadata": {},
   "outputs": [],
   "source": [
    "L = 1.255\n",
    "Ay = np.array([.0015,.005,.008,.0115])\n",
    "Aa = .250E-3\n",
    "An = np.array([0,1,2,3])\n",
    "By = np.array([.001,.0025,.004,.0055])\n",
    "Ba = .500E-3\n",
    "Bn = np.array([0,1,2,3])\n",
    "Cy = np.array([.0015,.0045,.0075])\n",
    "Ca = .250E-3\n",
    "Cn = np.array([0,1,2])\n",
    "Dy = np.array([.001,.003,.005,.007])\n",
    "Da = .500E-3\n",
    "Dn = np.array([0,1,2,3])\n",
    "\n",
    "def lamda(y,a,n):\n",
    "    total_wavel = 0\n",
    "    i = 0\n",
    "    wl = (1/(n+1/2)*a*y[n]/L)\n",
    "    while i < len(n):\n",
    "        total_wavel = total_wavel + wl[i]\n",
    "        i = i+1\n",
    "    ave_wl = total_wavel/(len(n))\n",
    "    return ave_wl"
   ]
  },
  {
   "cell_type": "code",
   "execution_count": 65,
   "metadata": {},
   "outputs": [
    {
     "name": "stdout",
     "output_type": "stream",
     "text": [
      "6.383987858091445e-07\n"
     ]
    }
   ],
   "source": [
    "A_lamda = lamda(Ay,Aa,An)\n",
    "print(A_lamda)"
   ]
  },
  {
   "cell_type": "code",
   "execution_count": 66,
   "metadata": {},
   "outputs": [
    {
     "name": "stdout",
     "output_type": "stream",
     "text": [
      "6.81085183077215e-07\n"
     ]
    }
   ],
   "source": [
    "B_lamda = lamda(By,Ba,Bn)\n",
    "print(B_lamda)"
   ]
  },
  {
   "cell_type": "code",
   "execution_count": 67,
   "metadata": {},
   "outputs": [
    {
     "name": "stdout",
     "output_type": "stream",
     "text": [
      "5.97609561752988e-07\n"
     ]
    }
   ],
   "source": [
    "C_lamda = lamda(Cy,Ca,Cn)\n",
    "print(C_lamda)"
   ]
  },
  {
   "cell_type": "code",
   "execution_count": 68,
   "metadata": {
    "scrolled": true
   },
   "outputs": [
    {
     "name": "stdout",
     "output_type": "stream",
     "text": [
      "7.968127490039841e-07\n"
     ]
    }
   ],
   "source": [
    "D_lamda = lamda(Dy,Da,Dn)\n",
    "print(D_lamda)"
   ]
  }
 ],
 "metadata": {
  "kernelspec": {
   "display_name": "Python 3",
   "language": "python",
   "name": "python3"
  },
  "language_info": {
   "codemirror_mode": {
    "name": "ipython",
    "version": 3
   },
   "file_extension": ".py",
   "mimetype": "text/x-python",
   "name": "python",
   "nbconvert_exporter": "python",
   "pygments_lexer": "ipython3",
   "version": "3.8.5"
  }
 },
 "nbformat": 4,
 "nbformat_minor": 5
}
