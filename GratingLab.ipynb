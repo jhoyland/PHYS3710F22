{
 "cells": [
  {
   "cell_type": "markdown",
   "id": "5a30afde",
   "metadata": {},
   "source": [
    "# Spectrometer\n",
    "\n",
    "In this activity you will build and characterize a spectrometer. You will need:\n",
    "\n",
    "* Adjustable slit\n",
    "* Camera\n",
    "* Lens\n",
    "* Rotation stage\n",
    "* Grating\n",
    "\n",
    "Set up the slit on a post. The lens should be placed so the slit is at its focal length. The grating should be attached to the camera. The camera should be mounted on a post, on top of the the rotation stage.\n"
   ]
  },
  {
   "cell_type": "code",
   "execution_count": null,
   "id": "4d0d8f49",
   "metadata": {},
   "outputs": [],
   "source": [
    "import cv2\n",
    "import numpy as np\n",
    "from matplotlib import pyplot as plt\n",
    "%matplotlib inline"
   ]
  },
  {
   "cell_type": "code",
   "execution_count": 41,
   "id": "a6b10fca",
   "metadata": {},
   "outputs": [],
   "source": [
    "def capture():\n",
    "    \n",
    "    cap = cv2.VideoCapture(0)\n",
    "    #cap.set(cv2.CAP_PROP_EXPOSURE,20)\n",
    "    frame = None\n",
    "    while(True):\n",
    "        # Capture frame-by-frame\n",
    "        ret, frame = cap.read()\n",
    "\n",
    "        # Display the resulting frame\n",
    "        cv2.imshow('OpenCV Capture. Press q to exit',frame)\n",
    "        if cv2.waitKey(1) & 0xFF == ord('q'):\n",
    "            break\n",
    " \n",
    "    # When everything done, release the capture\n",
    "    cap.release()\n",
    "    cv2.destroyAllWindows()\n",
    "    return frame"
   ]
  },
  {
   "cell_type": "markdown",
   "id": "86c22d13",
   "metadata": {},
   "source": [
    "## Task 1: Set up the camera\n",
    "\n",
    "Placing a bright light beyond the slit. Focus the lens so that image of the slit is sharp. Rotate camera so that the image of the slit is close to the left hand side of the image. "
   ]
  },
  {
   "cell_type": "code",
   "execution_count": null,
   "id": "475296f0",
   "metadata": {},
   "outputs": [],
   "source": [
    "frame = capture()"
   ]
  },
  {
   "cell_type": "markdown",
   "id": "2c60253f",
   "metadata": {},
   "source": [
    "## Task 2: Set up the spectrometer\n",
    "\n",
    "Since the lens is focussed on the slit, light from the slit will be collimated as it hits the grating. Without the grating, the lens in the camera, which is focused on infinity, would form an image of the slit. The effect of the grating is to produce a separate set of parallel beams for each wavelength of light in the source. Each of these parallel beams leave the grating at a different angle, and so the camera lens focuses each of them to a different point on the camerea sensor.\n",
    "\n",
    "The purpose of the spectrometer is to obtain the relative intensity of the light at each wavelength. We need to:\n",
    "1. Know what point on the camera sensor corresponds to what angle the light entered the camera at.\n",
    "2. Know at what wavelength left the grating at what angle.\n",
    "In order to calculate 1. You need to know the field of view of your camera, from this you can convert horizontal pixel number into angle.\n",
    "To calculate 2 you need to know the grating equation:\n",
    "$m\\lambda = a(\\sin \\theta_i + \\sin \\theta_m)$\n",
    "Where $\\theta_i$ is the angle of incidence of the light hitting the grating, $\\theta_m$ is the angle light of wavelength $\\lambda$ leaves the grating and m is the \"order number\".\n",
    "\n",
    "We would like to form an equation $\\theta_m = Ci$ where C is a constant i is the pixel number. Using the informaiton from above try to calculate the constant C.\n",
    "\n",
    "You can measure $\\theta_i$ from your rotation stage."
   ]
  },
  {
   "cell_type": "code",
   "execution_count": null,
   "id": "b43897d7",
   "metadata": {},
   "outputs": [],
   "source": [
    "C = \n",
    "theta_i = \n",
    "a = "
   ]
  },
  {
   "cell_type": "markdown",
   "id": "14f2607e",
   "metadata": {},
   "source": [
    "You will need the following two functions to process your data:"
   ]
  },
  {
   "cell_type": "code",
   "execution_count": null,
   "id": "94082900",
   "metadata": {},
   "outputs": [],
   "source": [
    "# Find the slit. This function finds the location of the slit in the photograph of the spectrum\n",
    "# The function takes a single line of the data and scans it to find the maximum value.\n",
    "# If it finds a block of saturated pixels it finds the middle pixel to be the slit.\n",
    "# The function returns the column number of the slit.\n",
    "\n",
    "def find_slit(data):\n",
    "    \n",
    "    mx = 0\n",
    "    mxc = 0\n",
    "    \n",
    "    startslit = 0\n",
    "    endslit = 0\n",
    "    \n",
    "    for c,d in enumerate(data):\n",
    "        \n",
    "        if d > mx:\n",
    "            \n",
    "            mx = d\n",
    "            mxc = c\n",
    "            \n",
    "        if startslit == 0 and d >= 255:\n",
    "            \n",
    "            startslit = c\n",
    "            \n",
    "        if endslit == 0 and startslit > 0 and d < 254:\n",
    "            \n",
    "            endslit = c\n",
    "            break\n",
    "            \n",
    "    # We found a slit of saturated values\n",
    "    if startslit > 0 and endslit > startslit:\n",
    "        \n",
    "        return math.ceil(0.5 * (endslit - startslit) + startslit)\n",
    "    \n",
    "    # Or just return the location of the biggest value found\n",
    "    else:\n",
    "        \n",
    "        return mxc\n",
    "    \n",
    "# This function takes a line from your image and converts it to produce wavelength data\n",
    "    \n",
    "\n",
    "def get_spectrum(data,lines_per_mm,C):\n",
    "    #\n",
    "    s = find_slit(data)\n",
    "    \n",
    "    d2 = data[s::]  # Select the data after the slit\n",
    "\n",
    "    a = 0.001 / lines_per_mm # convert lines/mm into grating spacing in m\n",
    "    \n",
    "    wvl = [ 1.0e9* a * math.sin(i * C) for i in range(len(d2))]\n",
    "        \n",
    "    return (wvl,d2)"
   ]
  },
  {
   "cell_type": "markdown",
   "id": "d4aba6bc",
   "metadata": {},
   "source": [
    "The procedure for taking a spectrum is this:\n",
    "First capture the image from the camera and convert to greyscale"
   ]
  },
  {
   "cell_type": "code",
   "execution_count": null,
   "id": "721cc6e8",
   "metadata": {},
   "outputs": [],
   "source": [
    "#Capture the image\n",
    "img1 = capture()\n",
    "#Convert to greyscale\n",
    "img1grey = cv2.cvtColor(img,cv2.COLOR_BGR2GRAY)\n",
    "#Show the image\n",
    "plt.imshow(img1grey)"
   ]
  },
  {
   "cell_type": "markdown",
   "id": "ee28132b",
   "metadata": {},
   "source": [
    "Then take a line of the data. You will have to work out from your image which line to take. You should select a line that runs horizontally through the center of the spectrum. You will then use the function to convert the pixel index to wavelength using the \"C\" value you calculated"
   ]
  },
  {
   "cell_type": "code",
   "execution_count": null,
   "id": "e7210361",
   "metadata": {},
   "outputs": [],
   "source": [
    "# Take a line from the image\n",
    "spec = img1[555] # Replace 555 with the image line you want to use for your spectrum\n",
    "# Produce a wavelength range and intensity data\n",
    "wvl, intensity = get_spectrum(spec,d,C)\n",
    "# Plot the spectrum\n",
    "plt.plot(wvl,intensity)"
   ]
  },
  {
   "cell_type": "markdown",
   "id": "c6e4a9e8",
   "metadata": {},
   "source": [
    "## Task 2:\n",
    "Take spectra using different sources: a white LED, colored LEDs, laser, gas discharge lamp and incandescent bulb. In each case determine the _free spectral range_ of the spectrum."
   ]
  },
  {
   "cell_type": "code",
   "execution_count": null,
   "id": "effa95ed",
   "metadata": {},
   "outputs": [],
   "source": []
  },
  {
   "cell_type": "code",
   "execution_count": null,
   "id": "515220c9",
   "metadata": {},
   "outputs": [],
   "source": []
  },
  {
   "cell_type": "markdown",
   "id": "559ab45c",
   "metadata": {},
   "source": [
    "## Task 3:\n",
    "Finally work out the optical resolution of your spectrometer. Compare this with the angular resolution of your camera. Which limits the overall resolution of the system?\n"
   ]
  }
 ],
 "metadata": {
  "kernelspec": {
   "display_name": "Python 3 (ipykernel)",
   "language": "python",
   "name": "python3"
  },
  "language_info": {
   "codemirror_mode": {
    "name": "ipython",
    "version": 3
   },
   "file_extension": ".py",
   "mimetype": "text/x-python",
   "name": "python",
   "nbconvert_exporter": "python",
   "pygments_lexer": "ipython3",
   "version": "3.7.13"
  }
 },
 "nbformat": 4,
 "nbformat_minor": 5
}
