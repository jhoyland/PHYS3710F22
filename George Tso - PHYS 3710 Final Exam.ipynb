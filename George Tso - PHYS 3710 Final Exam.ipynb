{
 "cells": [
  {
   "cell_type": "code",
   "execution_count": 20,
   "metadata": {},
   "outputs": [],
   "source": [
    "import numpy as np\n",
    "import scipy"
   ]
  },
  {
   "cell_type": "markdown",
   "metadata": {},
   "source": [
    "Question 2a"
   ]
  },
  {
   "cell_type": "code",
   "execution_count": 15,
   "metadata": {},
   "outputs": [],
   "source": [
    "Objlens = np.matrix(([1,0],[-1/100,1]))\n",
    "Gap = np.matrix(([1,75],[0,1]))\n",
    "Neglens = np.matrix(([1,0],[1/60,1]))\n",
    "ObjDis = np.matrix(([1,1e6],[0,1]))"
   ]
  },
  {
   "cell_type": "code",
   "execution_count": 12,
   "metadata": {},
   "outputs": [
    {
     "name": "stdout",
     "output_type": "stream",
     "text": [
      "[[ 2.50000000e-01  7.50000000e+01]\n",
      " [-5.83333333e-03  2.25000000e+00]]\n"
     ]
    }
   ],
   "source": [
    "lensmatrix = Neglens*Gap*Objlens\n",
    "print (lensmatrix)"
   ]
  },
  {
   "cell_type": "markdown",
   "metadata": {},
   "source": [
    "question 2b"
   ]
  },
  {
   "cell_type": "code",
   "execution_count": 16,
   "metadata": {},
   "outputs": [
    {
     "name": "stdout",
     "output_type": "stream",
     "text": [
      "[[ 2.50000000e-01  2.50075000e+05]\n",
      " [-5.83333333e-03 -5.83108333e+03]]\n"
     ]
    }
   ],
   "source": [
    "sysmatrix = lensmatrix*ObjDis\n",
    "print (sysmatrix)"
   ]
  },
  {
   "cell_type": "code",
   "execution_count": 27,
   "metadata": {},
   "outputs": [],
   "source": [
    "ImgDis = np.matrix(([1,42.88654195],[0,1]))"
   ]
  },
  {
   "cell_type": "code",
   "execution_count": 28,
   "metadata": {},
   "outputs": [
    {
     "name": "stdout",
     "output_type": "stream",
     "text": [
      "[[-1.71494708e-04  1.10541693e-05]\n",
      " [-5.83333333e-03 -5.83108333e+03]]\n"
     ]
    }
   ],
   "source": [
    "sysmatrix = ImgDis*lensmatrix*ObjDis\n",
    "print (sysmatrix)"
   ]
  },
  {
   "cell_type": "markdown",
   "metadata": {},
   "source": [
    "2c"
   ]
  },
  {
   "cell_type": "code",
   "execution_count": 29,
   "metadata": {},
   "outputs": [],
   "source": [
    "ObjLensR = 22\n",
    "NeglensR = 12"
   ]
  },
  {
   "cell_type": "code",
   "execution_count": 31,
   "metadata": {},
   "outputs": [
    {
     "name": "stdout",
     "output_type": "stream",
     "text": [
      "[[1.71477570e+00 1.71494719e+02]\n",
      " [1.66666667e-02 2.25000000e+00]]\n"
     ]
    }
   ],
   "source": [
    "AperStop = ImgDis*Neglens*Gap\n",
    "print (AperStop)"
   ]
  },
  {
   "cell_type": "code",
   "execution_count": 34,
   "metadata": {},
   "outputs": [
    {
     "name": "stdout",
     "output_type": "stream",
     "text": [
      "0.12828383333652396\n"
     ]
    }
   ],
   "source": [
    "a1=ObjLensR/AperStop[0,1]\n",
    "print (a1)"
   ]
  },
  {
   "cell_type": "code",
   "execution_count": 35,
   "metadata": {},
   "outputs": [
    {
     "name": "stdout",
     "output_type": "stream",
     "text": [
      "[[ 1.         42.88654195]\n",
      " [ 0.          1.        ]]\n"
     ]
    }
   ],
   "source": [
    "AperStop = ImgDis\n",
    "print (AperStop)"
   ]
  },
  {
   "cell_type": "code",
   "execution_count": 36,
   "metadata": {},
   "outputs": [
    {
     "name": "stdout",
     "output_type": "stream",
     "text": [
      "0.27980805759509364\n"
     ]
    }
   ],
   "source": [
    "a2 = a1=NeglensR/AperStop[0,1]\n",
    "print (a2)"
   ]
  },
  {
   "cell_type": "code",
   "execution_count": 37,
   "metadata": {},
   "outputs": [
    {
     "name": "stdout",
     "output_type": "stream",
     "text": [
      "[[1.         0.        ]\n",
      " [0.01666667 1.        ]]\n"
     ]
    }
   ],
   "source": [
    "exitpup = Neglens\n",
    "print(exitpup)"
   ]
  },
  {
   "cell_type": "code",
   "execution_count": 39,
   "metadata": {},
   "outputs": [
    {
     "name": "stdout",
     "output_type": "stream",
     "text": [
      "-33.333333333333336\n"
     ]
    }
   ],
   "source": [
    "expupimage = -(Gap[0,1]*exitpup[0,0]+exitpup[0,1])/(Gap[0,1]*exitpup[1,0]+exitpup[1,1])\n",
    "print(expupimage)"
   ]
  },
  {
   "cell_type": "code",
   "execution_count": null,
   "metadata": {},
   "outputs": [],
   "source": []
  }
 ],
 "metadata": {
  "kernelspec": {
   "display_name": "Python 3",
   "language": "python",
   "name": "python3"
  },
  "language_info": {
   "codemirror_mode": {
    "name": "ipython",
    "version": 3
   },
   "file_extension": ".py",
   "mimetype": "text/x-python",
   "name": "python",
   "nbconvert_exporter": "python",
   "pygments_lexer": "ipython3",
   "version": "3.7.4"
  }
 },
 "nbformat": 4,
 "nbformat_minor": 2
}
