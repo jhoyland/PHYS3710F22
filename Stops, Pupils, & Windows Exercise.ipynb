{
 "cells": [
  {
   "cell_type": "code",
   "execution_count": 1,
   "metadata": {},
   "outputs": [],
   "source": [
    "import numpy as np"
   ]
  },
  {
   "cell_type": "code",
   "execution_count": 39,
   "metadata": {},
   "outputs": [],
   "source": [
    "gap0 = np.matrix(([1,56],[0,1]))"
   ]
  },
  {
   "cell_type": "code",
   "execution_count": 5,
   "metadata": {},
   "outputs": [],
   "source": [
    "lens1 = np.matrix(([1,0],[-1/52,1]))"
   ]
  },
  {
   "cell_type": "code",
   "execution_count": 6,
   "metadata": {},
   "outputs": [],
   "source": [
    "gap1 = np.matrix(([1,15],[0,1]))"
   ]
  },
  {
   "cell_type": "code",
   "execution_count": 7,
   "metadata": {},
   "outputs": [],
   "source": [
    "lens2 = np.matrix(([1,0],[-1/40,1]))"
   ]
  },
  {
   "cell_type": "code",
   "execution_count": 8,
   "metadata": {},
   "outputs": [],
   "source": [
    "gap2 = np.matrix(([1,55],[0,1]))"
   ]
  },
  {
   "cell_type": "code",
   "execution_count": 9,
   "metadata": {},
   "outputs": [],
   "source": [
    "lens3 = np.matrix(([1,0],[-1/19,1]))"
   ]
  },
  {
   "cell_type": "code",
   "execution_count": 10,
   "metadata": {},
   "outputs": [],
   "source": [
    "gap3 = np.matrix(([1,20],[0,1]))"
   ]
  },
  {
   "cell_type": "code",
   "execution_count": 11,
   "metadata": {},
   "outputs": [],
   "source": [
    "lens4 = np.matrix(([1,0],[-1/33,1]))"
   ]
  },
  {
   "cell_type": "code",
   "execution_count": 15,
   "metadata": {},
   "outputs": [],
   "source": [
    "sysmat = lens4*gap3*lens3*gap2*lens2*gap1*lens1"
   ]
  },
  {
   "cell_type": "code",
   "execution_count": 16,
   "metadata": {},
   "outputs": [
    {
     "name": "stdout",
     "output_type": "stream",
     "text": [
      "[[-0.67067308  9.90131579]\n",
      " [ 0.05301573 -2.27372408]]\n"
     ]
    }
   ],
   "source": [
    "print (sysmat)"
   ]
  },
  {
   "cell_type": "code",
   "execution_count": 35,
   "metadata": {},
   "outputs": [],
   "source": [
    "objdis = -56"
   ]
  },
  {
   "cell_type": "code",
   "execution_count": 36,
   "metadata": {},
   "outputs": [],
   "source": [
    "imagedis = -(-objdis*sysmat[0,0]+sysmat[0,1])/(-objdis*sysmat[1,0]+sysmat[1,1])"
   ]
  },
  {
   "cell_type": "code",
   "execution_count": 37,
   "metadata": {},
   "outputs": [
    {
     "name": "stdout",
     "output_type": "stream",
     "text": [
      "39.78435819262387\n"
     ]
    }
   ],
   "source": [
    "print(imagedis)"
   ]
  },
  {
   "cell_type": "code",
   "execution_count": 38,
   "metadata": {
    "scrolled": true
   },
   "outputs": [
    {
     "name": "stdout",
     "output_type": "stream",
     "text": [
      "0.7104349677254262\n"
     ]
    }
   ],
   "source": [
    "Mag = -imagedis/objdis\n",
    "print(Mag)"
   ]
  },
  {
   "cell_type": "code",
   "execution_count": 51,
   "metadata": {},
   "outputs": [],
   "source": [
    "r1=25\n",
    "r2=20\n",
    "r3=8.5\n",
    "r4=22.5\n",
    "objr=12.5"
   ]
  },
  {
   "cell_type": "code",
   "execution_count": 59,
   "metadata": {},
   "outputs": [
    {
     "name": "stdout",
     "output_type": "stream",
     "text": [
      "[[ -0.67067308 -27.65637652]\n",
      " [  0.03269231  -0.14291498]]\n"
     ]
    }
   ],
   "source": [
    "aperEnt = gap3*lens3*gap2*lens2*gap1*lens1*gap0\n",
    "print (aperEnt)"
   ]
  },
  {
   "cell_type": "code",
   "execution_count": 53,
   "metadata": {},
   "outputs": [
    {
     "name": "stdout",
     "output_type": "stream",
     "text": [
      "0.44642857142857145\n"
     ]
    }
   ],
   "source": [
    "anglein1 = r1/aperEnt[0,1]\n",
    "print(anglein1)"
   ]
  },
  {
   "cell_type": "code",
   "execution_count": 55,
   "metadata": {},
   "outputs": [
    {
     "name": "stdout",
     "output_type": "stream",
     "text": [
      "0.36465638148667606\n"
     ]
    }
   ],
   "source": [
    "anglein2 = r2/aperEnt[0,1]\n",
    "print(anglein2)"
   ]
  },
  {
   "cell_type": "code",
   "execution_count": 58,
   "metadata": {},
   "outputs": [
    {
     "name": "stdout",
     "output_type": "stream",
     "text": [
      "0.3427685149282666\n"
     ]
    }
   ],
   "source": [
    "anglein3 = r3/aperEnt[0,1]\n",
    "print(-anglein3)"
   ]
  },
  {
   "cell_type": "markdown",
   "metadata": {},
   "source": [
    "aperture stop = lens 3"
   ]
  },
  {
   "cell_type": "code",
   "execution_count": 61,
   "metadata": {},
   "outputs": [
    {
     "name": "stdout",
     "output_type": "stream",
     "text": [
      "0.8135556002854577\n"
     ]
    }
   ],
   "source": [
    "anglein4 = r4/aperEnt[0,1]\n",
    "print(-anglein4)"
   ]
  },
  {
   "cell_type": "markdown",
   "metadata": {},
   "source": [
    "aperture stop = lens 3, position 70"
   ]
  },
  {
   "cell_type": "code",
   "execution_count": 70,
   "metadata": {},
   "outputs": [
    {
     "name": "stdout",
     "output_type": "stream",
     "text": [
      "[[ 0.625      15.        ]\n",
      " [-0.03701923  0.71153846]]\n"
     ]
    }
   ],
   "source": [
    "entpup = lens1*gap1*lens2\n",
    "print(entpup)"
   ]
  },
  {
   "cell_type": "code",
   "execution_count": 71,
   "metadata": {},
   "outputs": [
    {
     "name": "stdout",
     "output_type": "stream",
     "text": [
      "37.27767695099818\n"
     ]
    }
   ],
   "source": [
    "entpupimage = -(gap2[0,1]*entpup[0,0]+entpup[0,1])/(gap2[0,1]*entpup[1,0]+entpup[1,1])\n",
    "print(entpupimage)"
   ]
  },
  {
   "cell_type": "markdown",
   "metadata": {},
   "source": [
    "entrance pupil at x = -37.2777"
   ]
  },
  {
   "cell_type": "code",
   "execution_count": 72,
   "metadata": {},
   "outputs": [
    {
     "name": "stdout",
     "output_type": "stream",
     "text": [
      "[[ 1.          0.        ]\n",
      " [-0.03030303  1.        ]]\n"
     ]
    }
   ],
   "source": [
    "expup = lens4\n",
    "print(expup)"
   ]
  },
  {
   "cell_type": "code",
   "execution_count": 73,
   "metadata": {},
   "outputs": [
    {
     "name": "stdout",
     "output_type": "stream",
     "text": [
      "-50.769230769230774\n"
     ]
    }
   ],
   "source": [
    "expupimage = -(gap3[0,1]*expup[0,0]+expup[0,1])/(gap3[0,1]*expup[1,0]+expup[1,1])\n",
    "print(expupimage)"
   ]
  },
  {
   "cell_type": "markdown",
   "metadata": {},
   "source": [
    "exit pupil at x = 39.23077"
   ]
  },
  {
   "cell_type": "code",
   "execution_count": 87,
   "metadata": {},
   "outputs": [
    {
     "name": "stdout",
     "output_type": "stream",
     "text": [
      "[[ -0.67067308 -27.65637652]\n",
      " [  0.03269231  -0.14291498]]\n"
     ]
    }
   ],
   "source": [
    "fieldEnt = gap3*lens3*gap2*lens2*gap1*lens1*gap0\n",
    "print (fieldEnt)"
   ]
  },
  {
   "cell_type": "code",
   "execution_count": 82,
   "metadata": {},
   "outputs": [
    {
     "name": "stdout",
     "output_type": "stream",
     "text": [
      "0.6706426484907498\n"
     ]
    }
   ],
   "source": [
    "fieldin1 = r1/(fieldEnt[0,1]-fieldEnt[0,0]*(-objdis-entpupimage))\n",
    "print (fieldin1)"
   ]
  },
  {
   "cell_type": "code",
   "execution_count": 84,
   "metadata": {},
   "outputs": [
    {
     "name": "stdout",
     "output_type": "stream",
     "text": [
      "0.4816433566433567\n"
     ]
    }
   ],
   "source": [
    "fieldin2 = r2/(fieldEnt[0,1]-fieldEnt[0,0]*(-objdis-entpupimage))\n",
    "print (fieldin2)"
   ]
  },
  {
   "cell_type": "code",
   "execution_count": null,
   "metadata": {},
   "outputs": [],
   "source": [
    "field stop = lens 2"
   ]
  },
  {
   "cell_type": "code",
   "execution_count": 86,
   "metadata": {},
   "outputs": [
    {
     "name": "stdout",
     "output_type": "stream",
     "text": [
      "inf\n"
     ]
    },
    {
     "name": "stderr",
     "output_type": "stream",
     "text": [
      "C:\\ProgramData\\Anaconda3\\lib\\site-packages\\ipykernel_launcher.py:1: RuntimeWarning: divide by zero encountered in double_scalars\n",
      "  \"\"\"Entry point for launching an IPython kernel.\n"
     ]
    }
   ],
   "source": [
    "fieldin3 = r3/(fieldEnt[0,1]-fieldEnt[0,0]*(-objdis-entpupimage))\n",
    "print (fieldin3)"
   ]
  },
  {
   "cell_type": "code",
   "execution_count": 88,
   "metadata": {},
   "outputs": [
    {
     "name": "stdout",
     "output_type": "stream",
     "text": [
      "-1.4900841346153841\n"
     ]
    }
   ],
   "source": [
    "fieldin4 = r4/(fieldEnt[0,1]-fieldEnt[0,0]*(-objdis-entpupimage))\n",
    "print (fieldin4)"
   ]
  },
  {
   "cell_type": "code",
   "execution_count": 89,
   "metadata": {},
   "outputs": [],
   "source": [
    "entwin = lens1"
   ]
  },
  {
   "cell_type": "code",
   "execution_count": 90,
   "metadata": {},
   "outputs": [
    {
     "name": "stdout",
     "output_type": "stream",
     "text": [
      "-21.081081081081084\n"
     ]
    }
   ],
   "source": [
    "entwinimage = -(gap1[0,1]*entwin[0,0]+entwin[0,1])/(gap1[0,1]*entwin[1,0]+entwin[1,1])\n",
    "print(entwinimage)"
   ]
  },
  {
   "cell_type": "markdown",
   "metadata": {},
   "source": [
    "entrance window at x = 21.081081"
   ]
  },
  {
   "cell_type": "code",
   "execution_count": 93,
   "metadata": {},
   "outputs": [
    {
     "name": "stdout",
     "output_type": "stream",
     "text": [
      "[[-0.05263158 20.        ]\n",
      " [-0.05103668  0.39393939]]\n"
     ]
    }
   ],
   "source": [
    "exwin = lens4*gap3*lens3\n",
    "print(exwin)"
   ]
  },
  {
   "cell_type": "code",
   "execution_count": 92,
   "metadata": {},
   "outputs": [
    {
     "name": "stdout",
     "output_type": "stream",
     "text": [
      "7.088565763384008\n"
     ]
    }
   ],
   "source": [
    "exwinimage = -(gap2[0,1]*exwin[0,0]+exwin[0,1])/(gap2[0,1]*exwin[1,0]+exwin[1,1])\n",
    "print(exwinimage)"
   ]
  },
  {
   "cell_type": "code",
   "execution_count": null,
   "metadata": {},
   "outputs": [],
   "source": []
  }
 ],
 "metadata": {
  "kernelspec": {
   "display_name": "Python 3",
   "language": "python",
   "name": "python3"
  },
  "language_info": {
   "codemirror_mode": {
    "name": "ipython",
    "version": 3
   },
   "file_extension": ".py",
   "mimetype": "text/x-python",
   "name": "python",
   "nbconvert_exporter": "python",
   "pygments_lexer": "ipython3",
   "version": "3.7.4"
  }
 },
 "nbformat": 4,
 "nbformat_minor": 2
}
