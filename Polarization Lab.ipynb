{
 "cells": [
  {
   "cell_type": "code",
   "execution_count": 2,
   "id": "189d09f0",
   "metadata": {},
   "outputs": [],
   "source": [
    "import math\n",
    "import numpy as np\n",
    "from matplotlib import pyplot as plt\n",
    "from scipy import constants as const"
   ]
  },
  {
   "cell_type": "markdown",
   "id": "a3ee075e",
   "metadata": {},
   "source": [
    "## Set up laser & detector\n",
    "\n",
    "We will investigate polarization phenomena using a laser. For this you will make the following setup.\n",
    "\n",
    "A laser, with 3.3V power supply. A photodiode connected to a transimpedence amplifier and an oscilloscope. Your photodetector\n",
    "\n",
    "Mount the laser in one corner of the breadboard directing it down the long axis. Make sure there is about 30cm of space between the detector and the fan. Place the neutral density filters immediately after the fan (not shown in diagram).\n",
    "\n",
    "Initially just place the analyzer polarizer and leave out the laser polarizer.\n",
    "\n",
    "<img src=\"polsetup2.png\" alt=\"Drawing\" style=\"width: 640px;\"/>"
   ]
  },
  {
   "cell_type": "markdown",
   "id": "c434863b",
   "metadata": {},
   "source": [
    "## Test the linearity of your detector\n",
    "\n",
    "With the fan running and the ND filter wheel set to the blank space, measure your laser output (Vpp of the square wave on your scope). Choose a feedback resistor for your amplifier so that the output is at least 5V.\n",
    "\n",
    "Rotate the ND filter wheel and measure the voltage for each level of attenuation. The ND filters given produce a range of transmissions. Plot the graph of output vs. transmission - this should give you a straight line graph. "
   ]
  },
  {
   "cell_type": "code",
   "execution_count": null,
   "id": "eb3d34cd",
   "metadata": {},
   "outputs": [],
   "source": [
    "OD = np.array([0,0.1,0.3,0.5,1,2])\n",
    "T = 10**-OD\n",
    "Volts = []\n",
    "\n",
    "\n",
    "\n",
    "plt.plot(T,Volts)"
   ]
  },
  {
   "cell_type": "markdown",
   "id": "0bc7df2a",
   "metadata": {},
   "source": [
    "## Determine polarization of laser\n",
    "\n",
    "Place a polarizer directly in front of your detector in a rotation mount. This polarizer will be called the _analyzer_ from now on. Rotate the analyzer to give maximum signal. At this point the laser analyzer's polarization axis is aligned with the main polarization of the laser.  \n",
    "\n",
    "We would like the laser to be polarized vertically with respect to the table. Align the analyzer so its polarization axis is vertical, then rotate the laser until the signal is maximum again.\n",
    "\n",
    "Small laser diodes such as this are generally not perfectly polarized. They usually specify a _polarization ratio_ giving the ratio of the polarization between maximum and minimum polarizations. \n",
    "\n",
    "Rotate the polarizer again to produce the maximum output. Then rotate the polarizer 90 degrees. Calculate the ratio of the polarizations for your laser."
   ]
  },
  {
   "cell_type": "markdown",
   "id": "1dc06319",
   "metadata": {},
   "source": [
    "## Malus' law\n",
    "\n",
    "Place a second polarizer in front of the laser and align it so that the maximum signal is achieved. \n",
    "\n",
    "<img src=\"polsetup2.png\" alt=\"Drawing\" style=\"width: 640px;\"/>\n",
    "\n",
    "Rotate the analyzer in 30 degree steps and plot the graph of angle vs signal intensity. Use your data to demonstrate _Malus law_ which states that the intensity of light through two polarizers like this will be proportional to the cosine squared of the angle between the polarization axes of the two polarizers.\n",
    "\n",
    "$I = I_0 cos^2  \\theta$\n",
    "\n",
    "Find the intensity at each angle and divide by the maximum intensity to give the relative intensity. Make sure you start with the angle between the polarizers at zero.\n"
   ]
  },
  {
   "cell_type": "code",
   "execution_count": 8,
   "id": "7d2af545",
   "metadata": {},
   "outputs": [],
   "source": [
    "angles = np.arange(0,2 * math.pi,math.pi/6)"
   ]
  },
  {
   "cell_type": "markdown",
   "id": "ce0be0ac",
   "metadata": {},
   "source": [
    "Put your intensities into this list"
   ]
  },
  {
   "cell_type": "code",
   "execution_count": null,
   "id": "dbcffcea",
   "metadata": {
    "scrolled": true
   },
   "outputs": [],
   "source": [
    "intensitity = []\n",
    "malus_law = [math.cos(a) ** 2 for a in angles]"
   ]
  },
  {
   "cell_type": "markdown",
   "id": "b655ca55",
   "metadata": {},
   "source": [
    "This should plot your data along with the malus law data"
   ]
  },
  {
   "cell_type": "code",
   "execution_count": null,
   "id": "9f41a541",
   "metadata": {},
   "outputs": [],
   "source": [
    "plt.plot(angles,intensity,color='r')\n",
    "plt.plat(angles,malus_law,color='g')"
   ]
  },
  {
   "cell_type": "markdown",
   "id": "1026ba6a",
   "metadata": {},
   "source": [
    "## Place 3rd polarizer between\n",
    "\n",
    "With the analyzer rotated to completely cut out the light from the laser, insert a third polarizer between the two. Rotate this 3rd polarizer to produce maximum signal. \n",
    "\n",
    "\n",
    "<img src=\"polsetup3.png\" alt=\"Drawing\" style=\"width: 640px;\"/>\n",
    "\n",
    "* At what angle for this polarizer does this happen?\n",
    "* How does the intensity compare with the maximum intensity for just two polarizers?\n",
    "* Explain how this polarizer allows light through when the two original polarizers were blocking the light. Hint: think of the polarization direction of the light as a vector, and the polarizer as a device for selecting components of that vector.\n"
   ]
  },
  {
   "cell_type": "markdown",
   "id": "a18754a8",
   "metadata": {},
   "source": []
  },
  {
   "cell_type": "code",
   "execution_count": null,
   "id": "c85b8e62",
   "metadata": {},
   "outputs": [],
   "source": []
  },
  {
   "cell_type": "markdown",
   "id": "80be417c",
   "metadata": {},
   "source": [
    "## Circular polarization\n",
    "\n",
    "Replace the middle polarizer with a quarter-waveplate.\n",
    "Rotate the analyzer polarizer to determine the output. The quarter-waveplate produces circular or eliptical polarization depending on the input polarization of the wave. \n",
    "The quarter-wave plate is made of a _birefringent_ material. This is a crystal which has a different refractive index depending on the polarization of the light passing through it. Adjust the rotation of the waveplate until rotating the analyzer no longer produces any change in the signal. At this point your beam is circularly polarized.\n",
    "\n",
    "\n",
    "<img src=\"polsetup4.png\" alt=\"Drawing\" style=\"width: 640px;\"/>\n"
   ]
  },
  {
   "cell_type": "markdown",
   "id": "59dbed66",
   "metadata": {},
   "source": [
    "## Polarization by reflection. \n",
    "\n",
    "When light is reflected from a surface it is reflected differently depending on the polarization.\n",
    "\n",
    "Remove the waveplate, insert a rotation stage with a glass slide. Set the laser polarizer so that light is polarized at an angle of 45 degrees relative to the breadboard. With the glass slide arranged so light hits it normally. The analyzer polarizer should allow the same amount of light through for both perpendicular and horizontal polarization. \n",
    "\n",
    "<img src=\"polsetup5.png\" alt=\"Drawing\" style=\"width: 640px;\"/>\n",
    "\n",
    "\n",
    "As the angle of the glass plate rotates with respect to the beam the components of the light polarized relative to the surface will change. In this set up the polarization which is parallel to the plane of incidence (parallel to the table in this case) is called _p-polarized_. The light polarized perpendicular to this plane is called _s-polarized_.  \n",
    "\n",
    "For a range of angles of incidence from 0-90 degrees, measure the s and p polarized components output signal. For the p-polarized light you should find a maximum angle at which the light is almost completely transmitted. This angle is called the _Brewster angle_.\n",
    "\n",
    "Plot the intensity of the transmitted light in the s and p polarizations and find the Brewster angle.\n",
    "\n",
    "\n",
    "*Warning: As you rotate the glass slide, laser light will be reflected around the room. Place a piece of black card to block this reflection. Although in this case the amount reflected will be relatively weak, it is a good habit to get into when working with lasers to keep track of spurious reflections such as this*"
   ]
  }
 ],
 "metadata": {
  "kernelspec": {
   "display_name": "Python 3 (ipykernel)",
   "language": "python",
   "name": "python3"
  },
  "language_info": {
   "codemirror_mode": {
    "name": "ipython",
    "version": 3
   },
   "file_extension": ".py",
   "mimetype": "text/x-python",
   "name": "python",
   "nbconvert_exporter": "python",
   "pygments_lexer": "ipython3",
   "version": "3.7.13"
  }
 },
 "nbformat": 4,
 "nbformat_minor": 5
}
