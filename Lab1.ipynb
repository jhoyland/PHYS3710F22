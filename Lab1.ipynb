{
 "cells": [
  {
   "cell_type": "code",
   "execution_count": 18,
   "metadata": {},
   "outputs": [],
   "source": [
    "import math\n",
    "import numpy as np\n",
    "from matplotlib import pyplot as plt\n",
    "from scipy import constants as const\n",
    "import labtrinket\n",
    "import serial\n",
    "import time"
   ]
  },
  {
   "cell_type": "markdown",
   "metadata": {},
   "source": [
    "# Objective\n",
    "\n",
    "In this experiment you will use the photoresistor in a potential divider circuit. \n",
    "You will \n",
    "Optimize the circuit to give the most useful light sensitivity range.\n",
    "Use the sensor to measure red, green and blue light.\n",
    "Observe the wavelength effect\n",
    "Observe the response time of the photoresistor\n",
    "\n",
    "## Setup\n",
    "\n",
    "For this lab you need:\n",
    "Both mounted protoboards\n",
    "- Both mounted protoboards\n",
    "- 3 long jumper wires\n",
    "- The trinket\n",
    "- The photoresistor\n",
    "- The book of resistors\n",
    "\n",
    "Mount the trinket on the offset protoboard (the one which looks like a flag). Place it so that it is as far to the right hand edge as it will go with its USB overhanging.\n",
    "\n",
    "On the other board set up the photoresistor (R2) and a $220\\Omega$ resistor (R1) as a potential divider as shown. The photoresistor should be positioned so that it is as close as possible to the center of the board.\n",
    "\n",
    "Connect the two boards with long jumper wires as shown. \n",
    "- The 3V output of the trinket -> free end of photoresistor.\n",
    "- Gnd -> free end of resistor\n",
    "- ADC input (pin 0) -> common point between the two resistors.\n",
    "\n",
    "Mount both boards on the rail so that the onboard LED on the trinket is pointing directly at the photoresistor and fairly close, around 1cm.\n",
    "\n",
    "![board setup](Lab1_bb.png \"Breadboard setup\")\n",
    "\n",
    "![potential divider](photoresistor.png \"Potential divider circuit\")\n",
    "\n",
    "Hopefully you can see here that we have set up the resistors as a potential divider. This is a very common configuration for resistive sensors such as the photoresistor. \n",
    "\n",
    "### Note about notebook keyboard shortcuts and text\n",
    "In these tasks you have to insert code in various places as well as write some things. It is easy to add new cells for these: When the cell is in _command mode_ , meaning it has a blue bar on the left rather than green. You can press `B` to add a new cell below or `A` to add it above. Also if you execute a cell with `Alt+Enter`, a new blank cell is automatically created below the current cell after executing. `Ctrl+Enter` executes without creating a new cell. \n",
    "\n",
    "New cells default as code cells but you can change them to text cells (such as this one!) When the cell is in command mode you can press `M`, otherwise you can choose Markdown form the dropdown box on the toolbar. When editing a markdown cell you can just type text. You can use Latex equations in markdown cells by wrapping them in dollar signs. For example this: ```$y = A \\omega^2 \\sin{\\theta}$``` produces:  $y = A \\omega^2 \\sin{\\theta}$. Press `Ctrl+Enter` just like with a code cell to see the markdown cell rendered. Feel free to double click on some of my text cells in this notebook to see how I produced different effects like __bold__, _italic_ and `code`"
   ]
  },
  {
   "cell_type": "markdown",
   "metadata": {},
   "source": [
    "## Task 1: Determining resistance range of photoresistor\n",
    "\n",
    "First we will find out what range of resistances the photoresistor has in light and dark.\n",
    "\n",
    "With a fixed resistor of 220$\\Omega$ you will measure the maximum and minimum resistance. When you execute the cell below it should turn off the LED and gather 50 ADC values storing their average value in the variable `v1`. \n",
    "It is not essential to have absolute darkness but the background light should be as low as possible, either place the equipment in the box while running or else turn off the room lights. Make sure the background light conditions are the same each time you make a measurement.\n",
    "\n",
    "Lets set up some variables right away. `r1` will be the resistance of the fixed resistor and `vcc` the supply voltage from the trinket."
   ]
  },
  {
   "cell_type": "code",
   "execution_count": 2,
   "metadata": {},
   "outputs": [],
   "source": [
    "r1 = 220\n",
    "vcc = 3.3"
   ]
  },
  {
   "cell_type": "markdown",
   "metadata": {},
   "source": [
    "Set up the serial connection. As usual change the COM port to match your system."
   ]
  },
  {
   "cell_type": "code",
   "execution_count": 19,
   "metadata": {
    "scrolled": true
   },
   "outputs": [],
   "source": [
    "ser = serial.Serial()\n",
    "ser.port = 'COM7'\n",
    "ser.baudrate = 9600\n",
    "ser.open()\n",
    "trinket = labtrinket.LabTrinket(ser)"
   ]
  },
  {
   "cell_type": "markdown",
   "metadata": {},
   "source": [
    "Test your serial connection by turning the LED on the trinket on and off. You should be able to do that using the previous instructions on setting up the trinket. Add a cell below this one to execute the commands"
   ]
  },
  {
   "cell_type": "markdown",
   "metadata": {},
   "source": [
    "We will measure the voltage across the resistor in light and dark conditions. Below we'll define a function to take an average of a set of n measurements."
   ]
  },
  {
   "cell_type": "code",
   "execution_count": 20,
   "metadata": {},
   "outputs": [],
   "source": [
    "trinket.ledOn()"
   ]
  },
  {
   "cell_type": "code",
   "execution_count": 6,
   "metadata": {},
   "outputs": [],
   "source": [
    "trinket.ledOff()"
   ]
  },
  {
   "cell_type": "code",
   "execution_count": 21,
   "metadata": {},
   "outputs": [],
   "source": [
    "def averageVoltage(n):\n",
    "    trinket.adcRun()\n",
    "    v = 0\n",
    "    i = 0\n",
    "    while i<n:\n",
    "        if trinket.adcGetValue():\n",
    "            val = trinket.value\n",
    "            v = v + val\n",
    "           # print(\"{:}->{:}\".format(i,val))\n",
    "            i = i+1\n",
    "    trinket.adcStop()\n",
    "    return v / n"
   ]
  },
  {
   "cell_type": "markdown",
   "metadata": {},
   "source": [
    "The lines below will turn off the LED, set the delay for the ADC so that a measurement is taken every 0.2 seconds. Switch to volt mode so  that the ADC values are returned as an actual voltage and finally it will take the average of 50 measurements and store the result in the variable vdark. Make sure your trinket is in darkness and then run this code."
   ]
  },
  {
   "cell_type": "code",
   "execution_count": 22,
   "metadata": {},
   "outputs": [],
   "source": [
    "trinket.ledOff()\n",
    "trinket.adcDelay(0.2)\n",
    "trinket.adcVoltMode(True)\n",
    "vdark = averageVoltage(50)"
   ]
  },
  {
   "cell_type": "markdown",
   "metadata": {},
   "source": [
    "You can insert a cell below this one (press B while this cell is highlighted in blue) in that cell use the ```vdark``` you just measured to calculate the resistance of the photoresistor $R_2$ in the dark. Remember, you are measuring the voltage across the *fixed* resistor (R1). That voltage should be given by:\n",
    "\n",
    "$$V_1 = V_{cc}\\frac{R_1}{R_1 + R_2} \\qquad\\text{Eq. 1}$$ \n",
    "\n",
    "Where $R_2$ is the resistance of the photoresistor. Store the calculated $R_2$ in a variable called `rdark`"
   ]
  },
  {
   "cell_type": "markdown",
   "metadata": {},
   "source": [
    "Once you have rdark it's time to measure the light resistance the light resistance. turn the led on and set its color to 255,255,255 and brightness to 100. Then take another set of 50 measurements to get the vlight and rlight. Remember to keep your equipment covered or in the same ambient light as the dark measurements. Before running the average voltage function it is a good idea to clear the serial input buffer with the command `reset_input_buffer` otherwise unread values from the last run may still be in memory to contaminate your results."
   ]
  },
  {
   "cell_type": "code",
   "execution_count": 24,
   "metadata": {},
   "outputs": [],
   "source": [
    "trinket.ledOn()\n",
    "trinket.ledSetColor(red=255,green=255,blue=255)\n",
    "trinket.adcDelay(0.2)\n",
    "trinket.adcVoltMode(True)\n"
   ]
  },
  {
   "cell_type": "code",
   "execution_count": null,
   "metadata": {},
   "outputs": [],
   "source": [
    "vlight = averageVoltage(50)"
   ]
  },
  {
   "cell_type": "code",
   "execution_count": 8,
   "metadata": {},
   "outputs": [],
   "source": [
    "ser.reset_input_buffer()"
   ]
  },
  {
   "cell_type": "code",
   "execution_count": 16,
   "metadata": {},
   "outputs": [],
   "source": [
    "rlight = r1 *(vcc / vlight - 1)\n",
    "rdark = r1 *(vcc / vdark - 1)"
   ]
  },
  {
   "cell_type": "code",
   "execution_count": 17,
   "metadata": {},
   "outputs": [
    {
     "name": "stdout",
     "output_type": "stream",
     "text": [
      "122.37618314315124\n",
      "11100.648801040372\n"
     ]
    }
   ],
   "source": [
    "print (rlight)\n",
    "print (rdark)"
   ]
  },
  {
   "cell_type": "code",
   "execution_count": 8,
   "metadata": {},
   "outputs": [],
   "source": [
    "rlight = 122.37618314315124"
   ]
  },
  {
   "cell_type": "code",
   "execution_count": 9,
   "metadata": {},
   "outputs": [],
   "source": [
    "rdark = 11100.648801040372"
   ]
  },
  {
   "cell_type": "markdown",
   "metadata": {},
   "source": [
    "Print out your values for rlight and rdark"
   ]
  },
  {
   "cell_type": "code",
   "execution_count": 18,
   "metadata": {},
   "outputs": [
    {
     "name": "stdout",
     "output_type": "stream",
     "text": [
      "R light = 122.37618314315124,  R dark = 11100.648801040372\n"
     ]
    }
   ],
   "source": [
    "print(\"R light = {:},  R dark = {:}\".format(rlight,rdark))"
   ]
  },
  {
   "cell_type": "markdown",
   "metadata": {},
   "source": [
    "## Task 2: Maximize the sensor range\n",
    "\n",
    "You will have seen that the between ```vlight``` and ```vdark``` did not correspond to the full range of voltages measureable by the ADC (0 to 3.3V)  This is not ideal. An ADC divides its range into individual steps so if we do not use all of it we are wasting the available resolution of the measurement. We would like to maximize the difference between the maximum and minimum voltages. This can be done be selecting the right resistor for the $R_1$ - 220$\\Omega$  is not the optimum!\n",
    "\n",
    "This is easily done. The light and dark voltages are both found using Eq.1 above, using the light and dark resistances in for r2. The range of voltages is just the difference between the two. \n",
    "\n",
    "Using Eq 1 you should be able to write down an equation for the voltage range in terms of $R_{dark}$, $R_{light}$ and $R_1$. Having done so you should be able to differentiate the equation with respect to $R_1$ and find the maximum. There is actually a nice simple equation to find the ideal resistance for $R_1$ when there are two extreme resistances for $R_2$. Do the calculus and the write down the equation in the markdown cell below. "
   ]
  },
  {
   "cell_type": "markdown",
   "metadata": {},
   "source": [
    "__Maximum voltage swing given by__: \n",
    "\n",
    "$$V = V_{cc}\\Bigl(\\frac{R_1}{R_1 + R_L} - \\frac{R_1}{R_1 + R_D}\\Bigl)$$ "
   ]
  },
  {
   "cell_type": "code",
   "execution_count": null,
   "metadata": {},
   "outputs": [],
   "source": []
  },
  {
   "cell_type": "markdown",
   "metadata": {},
   "source": [
    "$$R_1 = \\sqrt{R_LR_D}$$"
   ]
  },
  {
   "cell_type": "code",
   "execution_count": 12,
   "metadata": {},
   "outputs": [],
   "source": [
    "R_1 = pow((rlight*rdark),0.5)"
   ]
  },
  {
   "cell_type": "code",
   "execution_count": 13,
   "metadata": {},
   "outputs": [
    {
     "name": "stdout",
     "output_type": "stream",
     "text": [
      "1165.5277906098675\n"
     ]
    }
   ],
   "source": [
    "print(R_1)"
   ]
  },
  {
   "cell_type": "markdown",
   "metadata": {},
   "source": [
    "__Bonus__: try plotting yor voltage range function vs $R_1$ to see how this resistor affects output."
   ]
  },
  {
   "cell_type": "markdown",
   "metadata": {},
   "source": [
    "Having established the resistance to give you the widest range, select the nearest resistor value from the range available and use it to replace the 220$\\Omega$ resistor. Store the value of the chosen resistor in the variable ```rsense```"
   ]
  },
  {
   "cell_type": "code",
   "execution_count": 14,
   "metadata": {},
   "outputs": [],
   "source": [
    "rsense = 1200"
   ]
  },
  {
   "cell_type": "markdown",
   "metadata": {},
   "source": [
    "## Task 3: Measuring photoresistor response\n",
    "We will now get to the main part of the lab you will do a run of measurements to see how the photoresistor responds to light changes. First we create two arrays, one to hold our brightness values and the other to hold our measured voltages. "
   ]
  },
  {
   "cell_type": "code",
   "execution_count": 9,
   "metadata": {
    "scrolled": true
   },
   "outputs": [],
   "source": [
    "brightness = np.linspace(0,100,101)\n",
    "voltage = np.zeros(101)"
   ]
  },
  {
   "cell_type": "markdown",
   "metadata": {},
   "source": [
    "The first creates an array of 101 numbers from 0 to 100. The second creates an array of 101 zeros. Now run your experiment as before with dark and maximum brightness, storing the voltages in `vlight2` and `vdark2` Print out those voltages. Remeber to run `reset_input_buffer` before each run."
   ]
  },
  {
   "cell_type": "markdown",
   "metadata": {},
   "source": [
    "The following code will run through the brightness levels setting the LED each time and recording the voltage. Note some things about this code:\n",
    "* This time we are only averaging over 5 measurements otherwise it will take a long time! \n",
    "* The first line `for i,b in enumerate(brightness):` steps through the contents of the brightness array returning both the brightness value in `b` and the index `i` of each element. This `i` then used to assign the corresponding element of the voltage array.\n",
    "* Note there is a delay provided by `sleep(1)` this makes the loop pause for 1 second. Photoresistors are slow to respond to light changes so this give it time to adjust before measuring."
   ]
  },
  {
   "cell_type": "code",
   "execution_count": 10,
   "metadata": {},
   "outputs": [],
   "source": [
    "trinket.ledSetColor(red=255,green=255,blue=255)\n",
    "ser.reset_input_buffer()"
   ]
  },
  {
   "cell_type": "code",
   "execution_count": 11,
   "metadata": {},
   "outputs": [],
   "source": [
    "for i,b in enumerate(brightness):\n",
    "    ser.reset_input_buffer()\n",
    "    trinket.ledSetBrightness(b)\n",
    "    time.sleep(1)\n",
    "    voltage[i] = averageVoltage(5)\n",
    "ser.reset_input_buffer()"
   ]
  },
  {
   "cell_type": "code",
   "execution_count": 12,
   "metadata": {
    "scrolled": true
   },
   "outputs": [
    {
     "data": {
      "text/plain": [
       "[<matplotlib.lines.Line2D at 0x22426c7de48>]"
      ]
     },
     "execution_count": 12,
     "metadata": {},
     "output_type": "execute_result"
    },
    {
     "data": {
      "image/png": "[encoded data removed]",
      "text/plain": [
       "<Figure size 432x288 with 1 Axes>"
      ]
     },
     "metadata": {
      "needs_background": "light"
     },
     "output_type": "display_data"
    }
   ],
   "source": [
    "plt.plot(brightness,voltage)"
   ]
  },
  {
   "cell_type": "markdown",
   "metadata": {},
   "source": [
    "Repeat your run 3 more times with the _color_ of the LED set to red, green and then blue. You can copy and paste the for loop code from above into 3 more cells and edit. Create 3 more zeroed arrays first to hold the red, green and blue voltage values. Name the arrays `voltageRed`, `voltageBule` and `voltageGreen`. Plot the runs all together with the code below."
   ]
  },
  {
   "cell_type": "code",
   "execution_count": 13,
   "metadata": {},
   "outputs": [],
   "source": [
    "voltageRed = np.zeros(101)\n",
    "trinket.ledSetColor(red=255,green=0,blue=0)\n",
    "for i,b in enumerate(brightness):\n",
    "    ser.reset_input_buffer()\n",
    "    trinket.ledSetBrightness(b)\n",
    "    time.sleep(1)\n",
    "    voltageRed[i] = averageVoltage(5)\n",
    "ser.reset_input_buffer()"
   ]
  },
  {
   "cell_type": "code",
   "execution_count": 14,
   "metadata": {},
   "outputs": [],
   "source": [
    "voltageBlue = np.zeros(101)\n",
    "trinket.ledSetColor(red=0,green=0,blue=255)\n",
    "for i,b in enumerate(brightness):\n",
    "    ser.reset_input_buffer()\n",
    "    trinket.ledSetBrightness(b)\n",
    "    time.sleep(1)\n",
    "    voltageBlue[i] = averageVoltage(5)\n",
    "ser.reset_input_buffer()"
   ]
  },
  {
   "cell_type": "code",
   "execution_count": 15,
   "metadata": {},
   "outputs": [],
   "source": [
    "voltageGreen = np.zeros(101)\n",
    "trinket.ledSetColor(red=0,green=255,blue=0)\n",
    "for i,b in enumerate(brightness):\n",
    "    ser.reset_input_buffer()\n",
    "    trinket.ledSetBrightness(b)\n",
    "    time.sleep(1)\n",
    "    voltageGreen[i] = averageVoltage(5)\n",
    "ser.reset_input_buffer()"
   ]
  },
  {
   "cell_type": "code",
   "execution_count": null,
   "metadata": {},
   "outputs": [],
   "source": []
  },
  {
   "cell_type": "code",
   "execution_count": 16,
   "metadata": {},
   "outputs": [
    {
     "data": {
      "image/png": "[encoded data removed]",
      "text/plain": [
       "<Figure size 432x288 with 1 Axes>"
      ]
     },
     "metadata": {
      "needs_background": "light"
     },
     "output_type": "display_data"
    }
   ],
   "source": [
    "plt.plot(brightness,voltageRed,color = \"red\")\n",
    "plt.plot(brightness,voltageBlue,color = \"blue\")\n",
    "plt.plot(brightness,voltageGreen,color = \"green\")\n",
    "plt.show()"
   ]
  },
  {
   "cell_type": "markdown",
   "metadata": {},
   "source": [
    "Comment on the results. Are the relative voltages for the different colors as you would expect?\n",
    "\n",
    "Since energy is inversely proportional to the wavelength and blue has a smaller wavelength, then the energy of a blue photon is more than that of a red photon. Having the same power, that means that there will be less photons of blue than the red. And the photo sensor measures the amount of photons. Red having higher voltage is what would be expected since the green wavelength falls between red and blue, with blue having the smallest wavelength. "
   ]
  },
  {
   "cell_type": "markdown",
   "metadata": {},
   "source": [
    "### Final observations\n",
    "\n",
    "Before you finish try two more things. \n",
    "1. What is the effect of changing the value of the delay in the loop? What happens if you remove this altogether?\n",
    "\n",
    "\n",
    "2. What is the effect of reducing the averaging? What if you only take one value per brightness level?\n",
    "\n",
    "\n"
   ]
  },
  {
   "cell_type": "markdown",
   "metadata": {},
   "source": []
  },
  {
   "cell_type": "markdown",
   "metadata": {},
   "source": [
    "1a. Reducing the value of the delay."
   ]
  },
  {
   "cell_type": "code",
   "execution_count": 27,
   "metadata": {},
   "outputs": [],
   "source": [
    "voltage1 = np.zeros(101)\n",
    "for i,b in enumerate(brightness):\n",
    "    ser.reset_input_buffer()\n",
    "    trinket.ledSetBrightness(b)\n",
    "    time.sleep(.1)\n",
    "    voltage1[i] = averageVoltage(5)\n",
    "ser.reset_input_buffer()"
   ]
  },
  {
   "cell_type": "code",
   "execution_count": 28,
   "metadata": {},
   "outputs": [
    {
     "data": {
      "text/plain": [
       "[<matplotlib.lines.Line2D at 0x2242a10f788>]"
      ]
     },
     "execution_count": 28,
     "metadata": {},
     "output_type": "execute_result"
    },
    {
     "data": {
      "image/png": "[encoded data removed]",
      "text/plain": [
       "<Figure size 432x288 with 1 Axes>"
      ]
     },
     "metadata": {
      "needs_background": "light"
     },
     "output_type": "display_data"
    }
   ],
   "source": [
    "plt.plot(brightness,voltage1)"
   ]
  },
  {
   "cell_type": "markdown",
   "metadata": {},
   "source": [
    "1b. Removing the delay"
   ]
  },
  {
   "cell_type": "code",
   "execution_count": 29,
   "metadata": {},
   "outputs": [],
   "source": [
    "voltage2 = np.zeros(101)\n",
    "for i,b in enumerate(brightness):\n",
    "    ser.reset_input_buffer()\n",
    "    trinket.ledSetBrightness(b)\n",
    "    voltage2[i] = averageVoltage(5)\n",
    "ser.reset_input_buffer()"
   ]
  },
  {
   "cell_type": "code",
   "execution_count": 32,
   "metadata": {},
   "outputs": [
    {
     "data": {
      "text/plain": [
       "[<matplotlib.lines.Line2D at 0x2242a2401c8>]"
      ]
     },
     "execution_count": 32,
     "metadata": {},
     "output_type": "execute_result"
    },
    {
     "data": {
      "image/png": "[encoded data removed]",
      "text/plain": [
       "<Figure size 432x288 with 1 Axes>"
      ]
     },
     "metadata": {
      "needs_background": "light"
     },
     "output_type": "display_data"
    }
   ],
   "source": [
    "plt.plot(brightness,voltage2)\n"
   ]
  },
  {
   "cell_type": "markdown",
   "metadata": {},
   "source": [
    "As mentioned above, photoresistors are slow to respond so the voltages will be taken immediately after changing the brightness so the voltages will be inacurate to what the photoresistor would register at that intensity. This will show a less smooth curve. "
   ]
  },
  {
   "cell_type": "markdown",
   "metadata": {},
   "source": [
    "2a. Reducing the averaging"
   ]
  },
  {
   "cell_type": "code",
   "execution_count": 34,
   "metadata": {},
   "outputs": [],
   "source": [
    "voltage3 = np.zeros(101)\n",
    "for i,b in enumerate(brightness):\n",
    "    ser.reset_input_buffer()\n",
    "    trinket.ledSetBrightness(b)\n",
    "    time.sleep(1)\n",
    "    voltage3[i] = averageVoltage(2)\n",
    "ser.reset_input_buffer()"
   ]
  },
  {
   "cell_type": "code",
   "execution_count": 35,
   "metadata": {},
   "outputs": [
    {
     "data": {
      "text/plain": [
       "[<matplotlib.lines.Line2D at 0x2242a2a7548>]"
      ]
     },
     "execution_count": 35,
     "metadata": {},
     "output_type": "execute_result"
    },
    {
     "data": {
      "image/png": "[encoded data removed]",
      "text/plain": [
       "<Figure size 432x288 with 1 Axes>"
      ]
     },
     "metadata": {
      "needs_background": "light"
     },
     "output_type": "display_data"
    }
   ],
   "source": [
    "plt.plot(brightness,voltage3)"
   ]
  },
  {
   "cell_type": "markdown",
   "metadata": {},
   "source": [
    "2b. Removing averaging and only taking one reading "
   ]
  },
  {
   "cell_type": "code",
   "execution_count": 36,
   "metadata": {},
   "outputs": [],
   "source": [
    "voltage4 = np.zeros(101)\n",
    "for i,b in enumerate(brightness):\n",
    "    ser.reset_input_buffer()\n",
    "    trinket.ledSetBrightness(b)\n",
    "    time.sleep(1)\n",
    "    voltage4[i] = averageVoltage(1)\n",
    "ser.reset_input_buffer()"
   ]
  },
  {
   "cell_type": "code",
   "execution_count": 37,
   "metadata": {},
   "outputs": [
    {
     "data": {
      "text/plain": [
       "[<matplotlib.lines.Line2D at 0x2242a30f508>]"
      ]
     },
     "execution_count": 37,
     "metadata": {},
     "output_type": "execute_result"
    },
    {
     "data": {
      "image/png": "[encoded data removed]",
      "text/plain": [
       "<Figure size 432x288 with 1 Axes>"
      ]
     },
     "metadata": {
      "needs_background": "light"
     },
     "output_type": "display_data"
    }
   ],
   "source": [
    "plt.plot(brightness,voltage4)"
   ]
  },
  {
   "cell_type": "markdown",
   "metadata": {},
   "source": [
    "The data is more erratic and the curve of the output isn't as smooth."
   ]
  },
  {
   "cell_type": "markdown",
   "metadata": {},
   "source": [
    "Make sure to close the serial connection before diconnecting your trinket."
   ]
  },
  {
   "cell_type": "code",
   "execution_count": 17,
   "metadata": {},
   "outputs": [],
   "source": [
    "trinket.ledOff()\n",
    "ser.close()\n"
   ]
  }
 ],
 "metadata": {
  "kernelspec": {
   "display_name": "Python 3 (ipykernel)",
   "language": "python",
   "name": "python3"
  },
  "language_info": {
   "codemirror_mode": {
    "name": "ipython",
    "version": 3
   },
   "file_extension": ".py",
   "mimetype": "text/x-python",
   "name": "python",
   "nbconvert_exporter": "python",
   "pygments_lexer": "ipython3",
   "version": "3.7.13"
  }
 },
 "nbformat": 4,
 "nbformat_minor": 4
}
