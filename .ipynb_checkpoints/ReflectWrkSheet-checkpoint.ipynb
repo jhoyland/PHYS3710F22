{
 "cells": [
  {
   "cell_type": "code",
   "execution_count": 8,
   "metadata": {},
   "outputs": [],
   "source": [
    "import math as m\n",
    "from matplotlib import pyplot as plt\n"
   ]
  },
  {
   "cell_type": "code",
   "execution_count": 2,
   "metadata": {},
   "outputs": [],
   "source": [
    "n1 = 1\n",
    "n2 = 1.5"
   ]
  },
  {
   "cell_type": "code",
   "execution_count": 20,
   "metadata": {},
   "outputs": [],
   "source": [
    "def theta_t(angle):\n",
    "    theta = m.asin(n2/n1*m.sin(angle))\n",
    "    return theta\n",
    "\n",
    "def r_p(angle):\n",
    "    reflect = (n2*m.sin(angle))-n1*m.cos(theta_t(angle))/(n1*m.cos(theta_t(angle))+m.cos(angle))\n",
    "    return reflect\n",
    "\n",
    "def t_p(angle):\n",
    "    trans = (2*n1*m.cos(angle))/(n1*m.cos(theta_t(angle))+n2*m.cos(angle))\n",
    "    return trans\n",
    "\n",
    "def r_s(angle):\n",
    "    reflect = (n1*m.cos(angle)-n2*m.cos(theta_t(angle)))/(n1*m.cos(angle)+n2*m.cos(theta_t(angle)))\n",
    "    return reflect\n",
    "\n",
    "def t_s(angle):\n",
    "    trans = (2*n1*m.cos(angle))/(n2*m.cos(theta_t(angle)+n1*m.cos(angle)))\n",
    "    return trans"
   ]
  },
  {
   "cell_type": "code",
   "execution_count": 21,
   "metadata": {},
   "outputs": [
    {
     "name": "stdout",
     "output_type": "stream",
     "text": [
      "0.8269689985437453\n"
     ]
    }
   ],
   "source": [
    "print (t_p(.34))"
   ]
  },
  {
   "cell_type": "code",
   "execution_count": null,
   "metadata": {},
   "outputs": [],
   "source": []
  }
 ],
 "metadata": {
  "kernelspec": {
   "display_name": "Python 3",
   "language": "python",
   "name": "python3"
  },
  "language_info": {
   "codemirror_mode": {
    "name": "ipython",
    "version": 3
   },
   "file_extension": ".py",
   "mimetype": "text/x-python",
   "name": "python",
   "nbconvert_exporter": "python",
   "pygments_lexer": "ipython3",
   "version": "3.8.5"
  }
 },
 "nbformat": 4,
 "nbformat_minor": 4
}
