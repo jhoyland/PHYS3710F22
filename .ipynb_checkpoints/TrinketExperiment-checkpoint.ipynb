{
 "cells": [
  {
   "cell_type": "markdown",
   "metadata": {},
   "source": [
    "# Introducing the LabTrinket\n",
    "\n",
    "This notebook should help you get started using LabTrinket. As well as the Trinket M0, you will also need a 220 Ohm resistor and ideally a photoresistor or other resistive sensor to perform some of the tests in this notebook. Ideally your Trinket should also be mounted on a breadboard.\n",
    "The LabTrinket is based on the Trinket M0 microcontroller from Adafruit. It is designed to use the Tinket as a low cost component for take-home science labs allowing data gathering and some control of experiments. The Trinket is run connected to a host computer and responds to simple serial commands over USB. LabTrinket consists of two parts. \n",
    "1) A Circuit Python script to place on the Trinket microcontroller to interpret and execute serial commands from the host computer\n",
    "2) A python library for the host computer to allow it to communicate with the Trinket\n",
    "## Before using the Trinket\n",
    "To use the trinket you need to connect it via a USB cable to your computer. It is compatible with Windows, Linux and Mac computers.  It should be a standard USB to micro USB as used to connect most smartphone but make sure it is not a \"charging only\" cable. \n",
    "\n",
    "## Setting up the First Time\n",
    "\n",
    "### Windows Drivers\n",
    "\n",
    "For Windows you will need to download and install drivers from here: https://learn.adafruit.com/adafruit-trinket-m0-circuitpython-arduino/windows-driver-installation  This step is not needed for Linux or MacOS. Follow the instructions at that link.\n",
    "\n",
    "### Circuit Python\n",
    "\n",
    "Connect the Board via the USB. You should see some LEDs flash on the board and you will notice the Trinket appears as an external drive on your computer, like a flash drive. \n",
    "\n",
    "The Trinket M0 uses an onboard Python interpreter called CircuitPython. Before first use you will need to update to the latest version. Visit this section: https://learn.adafruit.com/adafruit-trinket-m0-circuitpython-arduino?view=all#what-is-circuitpython and follow the instructions _very carefully_ to install the latest version on the Trinket.\n",
    "\n",
    "### LabTrinket Code\n",
    "\n",
    "The LabTrinket client code is called \"main.py\" can be found in the \"CircuitPython\" folder of this repo. https://github.com/jhoyland/LabTrinket \n",
    "After you have updated CircuitPython and restarted your Trinket (by plugging it out and in again) you can copy main.py onto it. It will overwrite the main.py which is already on your Trinket. \n",
    "\n",
    "### Install LED Libraries\n",
    "The Circuit Python on the Trinket needs a couple of libraries to operate the on board LED. You can get hold of the complete bundle of libraries from https://github.com/adafruit/Adafruit_CircuitPython_Bundle/releases/tag/20200925 You probably installed CircuitPython 5 in the earlier step so get version 5 of the bundle. Unzip this somewhere convenient. \n",
    "From the bundle you need two libraries:\n",
    "```\n",
    "adafruit_dotstar.mpy\n",
    "adafruit_pypixelbuf.mpy\n",
    "```\n",
    "On your Trinket there should be a folder called \\lib  (you can create one if it's not there)  Copy the two libraries into the lib folder on the Trinket. That's the whole install for the Trinket itself. You don't need the rest of the bundle you just unzipped and it can be deleted if you want to save space.\n",
    "\n",
    "### Install PySerial\n",
    "\n",
    "You need one last bit of install. The base Anaconda installation does not include the serial communications package. To install, you need to start up an \"Ananconda Prompt\" - on Windows this is on the Start Menu under \"Anaconda\". There you can type: ```conda install -c anaconda pyserial```\n",
    "Follow the on screen instructions. This should install the latest version. If not using Anaconda use pip or equivalent to install pyserial\n",
    "\n",
    "## Test your Trinket!\n",
    "\n",
    "With this all done you should now be able to test your Trinket. Make sure it is plugged in and mounted on a protoboard. This notebook will walk you through how to use the device. First thing to do is to import the labtrinket library and the serial library\n"
   ]
  },
  {
   "cell_type": "code",
   "execution_count": 1,
   "metadata": {},
   "outputs": [],
   "source": [
    "import labtrinket\n",
    "import serial"
   ]
  },
  {
   "cell_type": "markdown",
   "metadata": {},
   "source": [
    "### Set up your serial connection\n",
    "The labtrinket code communicates with the trinket through a serial connection. When you plug in your Trinket, your computer will assign it a serial port. For my Windows computer it was 'COM17' yours will probably be different. If you are running Linux or Mac you should also be able to find the name of the port used. There it will not be named COM but something else. Run the commands below changing the port variable to match your computer."
   ]
  },
  {
   "cell_type": "code",
   "execution_count": 2,
   "metadata": {},
   "outputs": [],
   "source": [
    "ser = serial.Serial()\n",
    "ser.port = 'COM11'\n",
    "ser.baudrate = 9600\n",
    "ser.open()"
   ]
  },
  {
   "cell_type": "markdown",
   "metadata": {},
   "source": [
    "Now you create a LabTrinket object and associate it with the serial connection you just made"
   ]
  },
  {
   "cell_type": "code",
   "execution_count": 3,
   "metadata": {},
   "outputs": [],
   "source": [
    "trinket = labtrinket.LabTrinket(ser)"
   ]
  },
  {
   "cell_type": "markdown",
   "metadata": {},
   "source": [
    "### Control the onboard LED\n",
    "The triket has an onboard LED. This is actually 3 LEDs in one - red, green and blue - which you can control. Try setting a color."
   ]
  },
  {
   "cell_type": "code",
   "execution_count": 5,
   "metadata": {},
   "outputs": [],
   "source": [
    "trinket.ledSetColor(red=200,green=90,blue=0)"
   ]
  },
  {
   "cell_type": "markdown",
   "metadata": {},
   "source": [
    "You can set the red, green and blue individually sending values between 0 and 255. If you don't specify one of the colors then it won't change. Try re-running the previous cell with different values."
   ]
  },
  {
   "cell_type": "markdown",
   "metadata": {},
   "source": [
    "You can also change the overall brightness with the ledSetBrightness command. This takes values from 0-100. "
   ]
  },
  {
   "cell_type": "code",
   "execution_count": 8,
   "metadata": {},
   "outputs": [],
   "source": [
    "trinket.ledSetBrightness(20)"
   ]
  },
  {
   "cell_type": "markdown",
   "metadata": {},
   "source": [
    "You can turn the led off by either changing all the red, green and blue to 0 or setting the brightness to 0. Or by using the ledOff command."
   ]
  },
  {
   "cell_type": "code",
   "execution_count": 9,
   "metadata": {},
   "outputs": [],
   "source": [
    "trinket.ledOff()"
   ]
  },
  {
   "cell_type": "markdown",
   "metadata": {},
   "source": [
    "The advantage of the ledOff is that when you turn it back on it will remember the color setting."
   ]
  },
  {
   "cell_type": "code",
   "execution_count": 10,
   "metadata": {},
   "outputs": [],
   "source": [
    "trinket.ledOn()"
   ]
  },
  {
   "cell_type": "markdown",
   "metadata": {},
   "source": [
    "### Control the ADC\n",
    "The Analog to Digital Converter (ADC) allows you to read voltages. We will use this in many experiments. It means you can essentially use your Trinket as voltmeter. \n",
    "*Warning: The Trinket can only handle voltages of between 0 and 3.3V. Be careful to never connect voltages outside this range to the inputs*\n",
    "Lets try and measure something. On the same board as your Trinket connect your photoresistor and a 220$\\Omega$ resistor in series. Connect the free leg of the photo resistor the 3V output on the Trinket (the pin furthest from the USB on the bottom).\n",
    "Connect the free leg of the other resistor to the Ground pin (top row, second pin in from the USB). Finally connect  a wire between the point where the two resistors connect and the pin marked '0'. Now we can try and measure some light."
   ]
  },
  {
   "cell_type": "code",
   "execution_count": 11,
   "metadata": {},
   "outputs": [],
   "source": [
    "trinket.adcRequestValue()"
   ]
  },
  {
   "cell_type": "markdown",
   "metadata": {},
   "source": [
    "The line above requests an ADC value from the trinket. It is not necessarily sent immediately. You can check though if the value is ready by writing:"
   ]
  },
  {
   "cell_type": "code",
   "execution_count": 12,
   "metadata": {},
   "outputs": [
    {
     "data": {
      "text/plain": [
       "True"
      ]
     },
     "execution_count": 12,
     "metadata": {},
     "output_type": "execute_result"
    }
   ],
   "source": [
    "trinket.adcGetValue()"
   ]
  },
  {
   "cell_type": "markdown",
   "metadata": {},
   "source": [
    "If this returns True the value is ready. The function above will alredy have read it and stored it in the 'value' of the trinket object. You can see the value here. By the way the values are the raw ADC values. "
   ]
  },
  {
   "cell_type": "code",
   "execution_count": 13,
   "metadata": {},
   "outputs": [
    {
     "name": "stdout",
     "output_type": "stream",
     "text": [
      "44944\n"
     ]
    }
   ],
   "source": [
    "print(trinket.value)"
   ]
  },
  {
   "cell_type": "markdown",
   "metadata": {},
   "source": [
    "You can also collect a bunch of values. The adcRun command starts collecting values at regular intervals (the default is 1 second). The trinket starts sending the values automatically but you need to read them one at a time. Start the ADC running:"
   ]
  },
  {
   "cell_type": "code",
   "execution_count": 14,
   "metadata": {},
   "outputs": [],
   "source": [
    "trinket.adcRun()"
   ]
  },
  {
   "cell_type": "markdown",
   "metadata": {},
   "source": [
    "With this code we will read 50 values and print them out along with an index number. Note that we are using adcGetValue again in an if statement, so it will keep trying until it gets each value. _Note_: sometimes the code can hang up here. If it does unplug the Trinket and plug it back in again, then restart the kernal on this notebook and run the lines again to this point."
   ]
  },
  {
   "cell_type": "code",
   "execution_count": 13,
   "metadata": {},
   "outputs": [
    {
     "name": "stdout",
     "output_type": "stream",
     "text": [
      "0: 46688\n",
      "1: 46608\n",
      "2: 46464\n",
      "3: 45952\n",
      "4: 45680\n",
      "5: 45472\n",
      "6: 45760\n",
      "7: 45984\n",
      "8: 46272\n",
      "9: 46496\n",
      "10: 46560\n",
      "11: 46640\n",
      "12: 46400\n",
      "13: 46160\n",
      "14: 45680\n",
      "15: 45504\n",
      "16: 45584\n",
      "17: 45904\n",
      "18: 46096\n",
      "19: 46240\n",
      "20: 46512\n",
      "21: 46592\n",
      "22: 46560\n",
      "23: 46400\n",
      "24: 46176\n",
      "25: 45728\n",
      "26: 45552\n",
      "27: 45472\n",
      "28: 45696\n",
      "29: 45920\n",
      "30: 46128\n",
      "31: 46240\n",
      "32: 46512\n",
      "33: 46544\n",
      "34: 46672\n",
      "35: 46528\n",
      "36: 46400\n",
      "37: 46032\n",
      "38: 45728\n",
      "39: 45520\n",
      "40: 45504\n",
      "41: 45616\n",
      "42: 45776\n",
      "43: 45824\n",
      "44: 46064\n",
      "45: 46368\n",
      "46: 46544\n",
      "47: 46672\n",
      "48: 46592\n",
      "49: 46512\n"
     ]
    }
   ],
   "source": [
    "i=0\n",
    "while i<50:\n",
    "    if trinket.adcGetValue():\n",
    "        print(\"{}: {}\".format(i,trinket.value))\n",
    "        i = i+1\n"
   ]
  },
  {
   "cell_type": "markdown",
   "metadata": {},
   "source": [
    "Now stop the ADC running:"
   ]
  },
  {
   "cell_type": "code",
   "execution_count": 15,
   "metadata": {},
   "outputs": [],
   "source": [
    "trinket.adcStop()"
   ]
  },
  {
   "cell_type": "markdown",
   "metadata": {},
   "source": [
    "### Control the DAC\n",
    "The Trinket can also act as a voltage source through its Digital to Analogue Converter (DAC). This is on the pin marked '1'. Disconnect the photoresistor circuit you made and now connect an LED in series with a 220$\\Omega$ resistor. Connect the positive leg of the LED to pin '1' and the free leg of the resistor to GND.\n",
    "Turn on the DAC:"
   ]
  },
  {
   "cell_type": "code",
   "execution_count": null,
   "metadata": {},
   "outputs": [],
   "source": [
    "trinket.dacOn()"
   ]
  },
  {
   "cell_type": "markdown",
   "metadata": {},
   "source": [
    "Most likely nothing will happen! LEDs require a  minimum votage to light up change the voltage to 3 to see it light up."
   ]
  },
  {
   "cell_type": "code",
   "execution_count": null,
   "metadata": {},
   "outputs": [],
   "source": [
    "trinket.dacVolts(3.2)"
   ]
  },
  {
   "cell_type": "markdown",
   "metadata": {},
   "source": [
    "If you still can't see any light, check your LED is the right way round! The positive end should be the long leg. Once its working try rerunning the live above with different voltages to see where the cutoff is for the LED. It won't let you provide a voltage outside the 0-3.3V range btw. Once you are done you can turn of the DAC."
   ]
  },
  {
   "cell_type": "code",
   "execution_count": null,
   "metadata": {},
   "outputs": [],
   "source": [
    "trinket.dacOff()"
   ]
  },
  {
   "cell_type": "markdown",
   "metadata": {},
   "source": [
    "Finally close the Serial connection. By the way if communication is interrupted while you are running these (e.g. the USB gets unplugged) you may find you have to restart the trinket and the Python kernel of this notebook."
   ]
  },
  {
   "cell_type": "code",
   "execution_count": 16,
   "metadata": {},
   "outputs": [],
   "source": [
    "ser.close()"
   ]
  },
  {
   "cell_type": "markdown",
   "metadata": {},
   "source": [
    "## Conclusion\n",
    "We will use the Trinket extensively so make sure you are comfortable with all these commands, you can use this notebook as a reference later on. Feel free to play further with the notebook."
   ]
  }
 ],
 "metadata": {
  "kernelspec": {
   "display_name": "Python 3",
   "language": "python",
   "name": "python3"
  },
  "language_info": {
   "codemirror_mode": {
    "name": "ipython",
    "version": 3
   },
   "file_extension": ".py",
   "mimetype": "text/x-python",
   "name": "python",
   "nbconvert_exporter": "python",
   "pygments_lexer": "ipython3",
   "version": "3.7.4"
  }
 },
 "nbformat": 4,
 "nbformat_minor": 4
}
