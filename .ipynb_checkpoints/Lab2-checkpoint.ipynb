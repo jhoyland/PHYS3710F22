{
 "cells": [
  {
   "cell_type": "markdown",
   "metadata": {},
   "source": [
    "# Lab 2: Photodiode based light sensors\n",
    "\n",
    "## Objective\n",
    "In this lab we will explore photodiodes as a light sensors. This builds on the assignment you did modelling photodiode response. You will measure the response of the photodiode and also build an amplifier to improve performance.\n",
    "\n",
    "## Setup\n",
    "For this lab you need: Both mounted protoboards\n",
    "\n",
    "- Both mounted protoboards\n",
    "- Jumper wires\n",
    "- The trinket\n",
    "- The photodiode\n",
    "- The book of resistors\n",
    "- 1 MCP6241 Op-Amp (datasheet supplied)\n",
    "- 2 0.1uF ceramic capacitors (small yellow ones)\n",
    "- 1 10uF electrolytic capacitor (large red ones)\n",
    "\n",
    "As with lab 1, put the Trinket on one board and build the circuit on the other with the photodiode aligned with the Trinket LED.\n",
    "\n"
   ]
  },
  {
   "cell_type": "markdown",
   "metadata": {},
   "source": [
    "These are the libraries we will need for this lab"
   ]
  },
  {
   "cell_type": "code",
   "execution_count": 4,
   "metadata": {},
   "outputs": [],
   "source": [
    "import math\n",
    "import numpy as np\n",
    "from matplotlib import pyplot as plt\n",
    "from scipy import constants as const\n",
    "import labtrinket\n",
    "import serial\n",
    "import time"
   ]
  },
  {
   "cell_type": "markdown",
   "metadata": {},
   "source": [
    "Connect the trinket"
   ]
  },
  {
   "cell_type": "code",
   "execution_count": 5,
   "metadata": {},
   "outputs": [],
   "source": [
    "ser = serial.Serial()\n",
    "ser.port = 'COM5'\n",
    "ser.baudrate = 9600\n",
    "ser.open()\n",
    "trinket = labtrinket.LabTrinket(ser)"
   ]
  },
  {
   "cell_type": "markdown",
   "metadata": {},
   "source": [
    "We will use the average voltage function again from Lab1"
   ]
  },
  {
   "cell_type": "code",
   "execution_count": 6,
   "metadata": {},
   "outputs": [],
   "source": [
    "def averageVoltage(n):\n",
    "    trinket.adcRun()\n",
    "    v = 0\n",
    "    i = 0\n",
    "    while i<n:\n",
    "        if trinket.adcGetValue():\n",
    "            val = trinket.value\n",
    "            v = v + val\n",
    "           # print(\"{:}->{:}\".format(i,val))\n",
    "            i = i+1\n",
    "    trinket.adcStop()\n",
    "    return v / n"
   ]
  },
  {
   "cell_type": "markdown",
   "metadata": {},
   "source": [
    "Make a an array of brightnesses and another for output voltages"
   ]
  },
  {
   "cell_type": "code",
   "execution_count": 7,
   "metadata": {},
   "outputs": [],
   "source": [
    "brightness = np.linspace(0,100,50)\n",
    "voltage0 = np.zeros(50)"
   ]
  },
  {
   "cell_type": "markdown",
   "metadata": {},
   "source": [
    "## Task 1: Open circuit voltage\n",
    "\n",
    "Set up as shown with the ADC connected to the positive anode and the cathode connected to ground (the anode is the _longer_ leg of the photodiode). Just as you did with the photoresistor experiment, set the trinket LED color to white, delay to 0.2 and turn on voltage mode. Arrange the photodiode so that it is pointing directly at the trinket LED and fairly close. \n",
    "Write a for loop to step through the brightness of the diode and store the measured voltages in the `voltageOC` array you created just before.\n",
    "\n",
    "![OC Voltage Circuit](Photodiode.png \"Open circuit measurement\")"
   ]
  },
  {
   "cell_type": "code",
   "execution_count": 8,
   "metadata": {},
   "outputs": [],
   "source": [
    "trinket.ledOn()\n",
    "trinket.ledSetColor(255,255,255)\n",
    "trinket.adcDelay(0.2)\n",
    "trinket.adcVoltMode(True)"
   ]
  },
  {
   "cell_type": "code",
   "execution_count": 9,
   "metadata": {},
   "outputs": [],
   "source": [
    "trinket.ledOn()\n",
    "for i,b in enumerate(brightness):\n",
    "    ser.reset_input_buffer()\n",
    "    trinket.ledSetBrightness(b)\n",
    "    voltage0[i] = averageVoltage(5)\n",
    "trinket.ledOff()"
   ]
  },
  {
   "cell_type": "markdown",
   "metadata": {},
   "source": [
    "# Task2: External load resistor\n",
    "\n",
    "We will continue to work in _photovoltaic mode_ by adding an external load resitor. Place the load resistor in parallel with the photodiode and measure with the ADC from the same two points. Obtain a series of measurements for a 22k$\\Omega$, 10k$\\Omega$, 2.2k$\\Omega$ and 220$\\Omega$ resistor. Create arrays called `voltageRL22k`, `voltageRL10k`, `voltageRL2k2` and `voltageRL220` to store the values for these runs.\n",
    "Make a plot containing the open circuit brightness-voltage curve as well as these four curves. Comment on the shape and magnitudes in these plots. How does it compare with the modelled values from Assignment 1 where we were looking at a similar setup?\n",
    "\n",
    "![Photovoltaic mode](Photodiode-loaded.png \"Photovoltaic mode circuit\")\n",
    "\n"
   ]
  },
  {
   "cell_type": "markdown",
   "metadata": {},
   "source": [
    "# Task3: Reverse bias\n",
    "\n",
    "We will now look at the effect of reverse biasing your diode. Choose a 10k$\\Omega$ load resistor, this time however, place it in series with the photodiode. Connect the resistor between the __anode__ of the photodiode and the ground connect. Connect the __cathode__ of the photodiode to the 3.3V output from the trinket.\n",
    "Perform a brightness run again, this time storing the voltages in an array `voltageReverseBias`. Plot the result on the same graph as the unbiased `voltageRL10k` you obtained in the previous task.\n",
    "You will probably find the output to be rather noisy. This noise comes from a number of sources in both the resistor and photodiode, you can reduce it a little by put a capacitor in parallel with the load resistor. This has the effect of lowering the effective resistance for higher frequency signals like the noise. Make another run with the capacitor in place and plot with the pervious signal for comparison. The downside to this is the capacitor lowers bandwidth making it harder to detect short light pulses.\n",
    "\n",
    "![Reverse bias](photodiode-reverse-bias.png \"Reverse biased photodiode\")"
   ]
  },
  {
   "cell_type": "markdown",
   "metadata": {},
   "source": [
    "# Task 4: Transimpedence amplifier\n",
    "\n",
    "The final task we will build a so called _transimpedence amplifier_ (TIA) to detect our signal . This is perhaps one of the most common circuits in optoelectronic detectors. Their construction is an art in itself (there are 3 books just on this circuit on my bookshelf!). We will build the most basic form.\n",
    "The basic TIA circuit is as shown below. The photodiode is connected to the inverting input of an op-amp and feedback is provided by a resistor $R_f$. The non-inverting input of the op-amp is connected to ground. As photocurrent $I_p$ flows the op-amp attempts keep the two inputs at the same voltage, since one is tied to ground that voltage is zero and the inverting input becomes a _virtual ground_. In order to acheive this op-amp must cancel out the current at the inverting input. By Kirchoff's junction rule this must happen when the feedback current $I_f$ equals the photocurrent. The end result is that the op-amp output voltage will be given by: $V_o = I_p R_f$    This votlage can be measured without loading the photodiode and the virtual ground means the voltage over the diode is zero. In this way we can measure the linear photodiode output current.\n",
    "\n",
    "![TIA](tia-schematic.png \"Transimpedence amplifier\")"
   ]
  },
  {
   "cell_type": "markdown",
   "metadata": {},
   "source": [
    "Set up the circuit as shown. Using MCP6   op-amp. Note the use of the capacitors on the supply line, this removes noise from the op-amp power supply and is good practice whenever using op-amps. __Important:__ The 10$\\mu$F capacitor has a white band on it to indicate the negative leg. This must go to ground. _When incorrectly connected electrolytic capacitors can explode!_ Because we are using a single-supply op-amp there is only one way round the op-amp can go, with the annode connected to ground, this way current flows out of the inverting input and the output voltage goes positive to produce the feedback current. \n",
    "Make a brightness run measurement for the TIA as you did for the previous tasks. If you e get a completely flat-line response the most likely cause is placing the photodiode the wrong way around. Try using the same range of resistors for the feedback as you did for the load resistors in task 2. Again a 0.1$\\mu$F capacitor in parallel with the resistor will reduce noise.\n",
    "Plot your results."
   ]
  },
  {
   "cell_type": "markdown",
   "metadata": {},
   "source": [
    "## Conclusion\n",
    "\n",
    "The TIA is the most common circuit used for working with photodiodes. Although the simple reverse bias in Task 3 also produces a linear response, the amplifier circuit when properly tuned can be far faster, allowing even nanosecond light pulses to be measured. Unfortuntely that is difficult to demonstrate without an oscilloscope. You will need to build a TIA again for later experiment."
   ]
  }
 ],
 "metadata": {
  "kernelspec": {
   "display_name": "Python 3",
   "language": "python",
   "name": "python3"
  },
  "language_info": {
   "codemirror_mode": {
    "name": "ipython",
    "version": 3
   },
   "file_extension": ".py",
   "mimetype": "text/x-python",
   "name": "python",
   "nbconvert_exporter": "python",
   "pygments_lexer": "ipython3",
   "version": "3.7.4"
  }
 },
 "nbformat": 4,
 "nbformat_minor": 4
}
