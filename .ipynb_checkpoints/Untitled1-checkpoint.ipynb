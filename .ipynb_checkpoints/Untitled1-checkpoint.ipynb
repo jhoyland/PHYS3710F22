{
 "cells": [
  {
   "cell_type": "code",
   "execution_count": 1,
   "id": "0d245d20",
   "metadata": {},
   "outputs": [],
   "source": [
    "import numpy as np\n",
    "import math"
   ]
  },
  {
   "cell_type": "markdown",
   "id": "a85cd7c0",
   "metadata": {},
   "source": [
    "Question 2"
   ]
  },
  {
   "cell_type": "code",
   "execution_count": 6,
   "id": "f9e4dea8",
   "metadata": {},
   "outputs": [],
   "source": [
    "lens1 = np.matrix([[1,0],[-1/100,1]])\n",
    "gap1 = np.matrix([[1,75],[0,1]])\n",
    "lens2 = np.matrix([[1,0],[1/60,1]])"
   ]
  },
  {
   "cell_type": "code",
   "execution_count": 7,
   "id": "b9a78f79",
   "metadata": {},
   "outputs": [],
   "source": [
    "M_sys = lens2*gap1*lens1"
   ]
  },
  {
   "cell_type": "code",
   "execution_count": 8,
   "id": "f984cc88",
   "metadata": {},
   "outputs": [
    {
     "name": "stdout",
     "output_type": "stream",
     "text": [
      "[[ 1.    0.  ]\n",
      " [-0.01  1.  ]]\n",
      "[[ 1 75]\n",
      " [ 0  1]]\n",
      "[[1.         0.        ]\n",
      " [0.01666667 1.        ]]\n",
      "[[ 2.50000000e-01  7.50000000e+01]\n",
      " [-5.83333333e-03  2.25000000e+00]]\n"
     ]
    }
   ],
   "source": [
    "print(lens1)\n",
    "print(gap1)\n",
    "print(lens2)\n",
    "print(M_sys)"
   ]
  },
  {
   "cell_type": "code",
   "execution_count": 11,
   "id": "4dcfeb94",
   "metadata": {},
   "outputs": [],
   "source": [
    "matrix1 = np.matrix([[1,1000000-75],[0,1]])"
   ]
  },
  {
   "cell_type": "code",
   "execution_count": 12,
   "id": "a2085819",
   "metadata": {},
   "outputs": [],
   "source": [
    "alpha0_1 = abs(11/matrix1[0,1])"
   ]
  },
  {
   "cell_type": "code",
   "execution_count": 13,
   "id": "87f5fd19",
   "metadata": {
    "scrolled": true
   },
   "outputs": [
    {
     "name": "stdout",
     "output_type": "stream",
     "text": [
      "1.1000825061879641e-05\n"
     ]
    }
   ],
   "source": [
    "print(alpha0_1)"
   ]
  },
  {
   "cell_type": "code",
   "execution_count": 14,
   "id": "8a9109d7",
   "metadata": {},
   "outputs": [],
   "source": [
    "matrix2 = gap1*lens1*matrix1"
   ]
  },
  {
   "cell_type": "code",
   "execution_count": 17,
   "id": "8ec1ac36",
   "metadata": {},
   "outputs": [
    {
     "name": "stdout",
     "output_type": "stream",
     "text": [
      "[[ 2.5000000e-01  2.5005625e+05]\n",
      " [-1.0000000e-02 -9.9982500e+03]]\n"
     ]
    }
   ],
   "source": [
    "print(matrix2)"
   ]
  },
  {
   "cell_type": "code",
   "execution_count": 15,
   "id": "c63c0c42",
   "metadata": {},
   "outputs": [],
   "source": [
    "alpha0_2 = abs(6/matrix2[0,1])"
   ]
  },
  {
   "cell_type": "code",
   "execution_count": 16,
   "id": "198d102d",
   "metadata": {},
   "outputs": [
    {
     "name": "stdout",
     "output_type": "stream",
     "text": [
      "2.3994601214726686e-05\n"
     ]
    }
   ],
   "source": [
    "print(alpha0_2)"
   ]
  }
 ],
 "metadata": {
  "kernelspec": {
   "display_name": "Python 3 (ipykernel)",
   "language": "python",
   "name": "python3"
  },
  "language_info": {
   "codemirror_mode": {
    "name": "ipython",
    "version": 3
   },
   "file_extension": ".py",
   "mimetype": "text/x-python",
   "name": "python",
   "nbconvert_exporter": "python",
   "pygments_lexer": "ipython3",
   "version": "3.7.13"
  }
 },
 "nbformat": 4,
 "nbformat_minor": 5
}
