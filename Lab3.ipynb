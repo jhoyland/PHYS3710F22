{
 "cells": [
  {
   "cell_type": "markdown",
   "metadata": {},
   "source": [
    "# Optical instruments lab"
   ]
  },
  {
   "cell_type": "markdown",
   "metadata": {},
   "source": [
    "In this lab you will build some basic optical instruments and take images through them with your camera. For this lab you will need:\n",
    "\n",
    "- The Arducam USB Camera\n",
    "- Lenses and lens mounts\n",
    "- Scotch tape or small objects to view\n",
    "- Ruler or tape measure\n",
    "\n",
    "In order to run the program you may need to install OpenCV which is a package for maipulating images. If you get a message that the package ```cv2``` can't be found, open up Anaconda Console and run the command:\n",
    "```conda install -c conda-forge opencv```\n",
    "You may need to restart the notebook before the changes take place. Let me know if you have problems with that install"
   ]
  },
  {
   "cell_type": "code",
   "execution_count": 1,
   "metadata": {},
   "outputs": [],
   "source": [
    "import cv2\n",
    "import numpy as np\n",
    "from matplotlib import pyplot as plt"
   ]
  },
  {
   "cell_type": "markdown",
   "metadata": {},
   "source": [
    "## The Camera\n",
    "\n",
    "We will start by characterizing the camera. The following script will run the camera The camera view will open in a separate window. **You cannot close the window in the normal way. Trying to do so may crash python** - click on the window showing the video and press 'q' to close it. When you press q the function will return the last frame taken"
   ]
  },
  {
   "cell_type": "code",
   "execution_count": 23,
   "metadata": {},
   "outputs": [],
   "source": [
    "def capture():\n",
    "    cap = cv2.VideoCapture(1)\n",
    "    #cap.set(cv2.CAP_PROP_EXPOSURE,20)\n",
    "    frame = None\n",
    "    while(True):\n",
    "        # Capture frame-by-frame\n",
    "        ret, frame = cap.read()\n",
    "\n",
    "        # Display the resulting frame\n",
    "        cv2.imshow('OpenCV Capture. Press q to exit',frame)\n",
    "        if cv2.waitKey(1) & 0xFF == ord('q'):\n",
    "            break\n",
    " \n",
    "    # When everything done, release the capture\n",
    "    cap.release()\n",
    "    cv2.destroyAllWindows()\n",
    "    return frame"
   ]
  },
  {
   "cell_type": "markdown",
   "metadata": {},
   "source": [
    "Try taking a selfie. The following line runs the function and stores the image in variable ```frame```."
   ]
  },
  {
   "cell_type": "code",
   "execution_count": 24,
   "metadata": {},
   "outputs": [],
   "source": [
    "frame = capture()"
   ]
  },
  {
   "cell_type": "markdown",
   "metadata": {},
   "source": [
    "**Important:** If you have another camera attached to your computer (e.g. a built in webcam) you may find the video is from that camera rather than the camera from the kit. If that is the case you may need to change the line in the function above:\n",
    "```cap = cv2.VideoCapture(0)```  Try changing the number in the brackets to ```1```. This number is an index number for attached cameras."
   ]
  },
  {
   "cell_type": "markdown",
   "metadata": {},
   "source": [
    "You can display the image in the notebook using the following line"
   ]
  },
  {
   "cell_type": "code",
   "execution_count": 6,
   "metadata": {},
   "outputs": [
    {
     "data": {
      "text/plain": [
       "<matplotlib.image.AxesImage at 0x1fb84946d48>"
      ]
     },
     "execution_count": 6,
     "metadata": {},
     "output_type": "execute_result"
    },
    {
     "data": {
      "image/png": "[encoded data removed]",
      "text/plain": [
       "<Figure size 432x288 with 1 Axes>"
      ]
     },
     "metadata": {
      "needs_background": "light"
     },
     "output_type": "display_data"
    }
   ],
   "source": [
    "plt.imshow(frame)"
   ]
  },
  {
   "cell_type": "markdown",
   "metadata": {},
   "source": [
    "### Camera Field of View\n",
    "\n",
    "An important parameter for the camera is its field of view (FOV). This is straightforward to measure. Just take a ruler and position it so its scale fills the image on the camera. The ruler and camera form a triangle with the camera at the apex and the ruler as the oposite side. The apex angle is then the field of view. "
   ]
  },
  {
   "cell_type": "code",
   "execution_count": null,
   "metadata": {},
   "outputs": [],
   "source": [
    "FOV = "
   ]
  },
  {
   "cell_type": "markdown",
   "metadata": {},
   "source": [
    "Since the camera is set to infinite focus, the CCD sensor is at the focal point of the lens. The sensor in the camera has a width of ... so given the chief rays from the edges of the image form the same angle behind the lens as in front the focal length of the the lens can be worked out from the FOV:"
   ]
  },
  {
   "cell_type": "code",
   "execution_count": null,
   "metadata": {},
   "outputs": [],
   "source": [
    "f_camera = "
   ]
  },
  {
   "cell_type": "markdown",
   "metadata": {},
   "source": [
    "The camera sensor has 640 pixels by 480 pixels. in the wider, horizontal direction, what are is the angle of view per pixel? This will be an important parameter in a  later experiment."
   ]
  },
  {
   "cell_type": "code",
   "execution_count": null,
   "metadata": {},
   "outputs": [],
   "source": [
    "radians_per_pixel = "
   ]
  },
  {
   "cell_type": "markdown",
   "metadata": {},
   "source": [
    "## The Simple Magnifier\n",
    "\n",
    "The simple magnifier is just a single lens. Let's try and magnify some objects via a lens. Mount a lens in front of the camera and place an object in front of it at the focal point of the magnifying lens. Determine the angular size of the object in the lens. Try for three different focal length lenses. Capture images through the 3 lenses and show them in the notebook as explained above. Make sure you label which focal length lens was used in each case.\n",
    "\n",
    "As an object to use for the experiment. Take a piece of transparent scotch tape, stick it into some salt, sugar or other powder with visible grains, then stick the tape to one of the square slide holders from the kit. You can also try any other small fairly flat object. Note you may need to provide some bright illumination to see a clear image. One option is to set up the trinket behind the object (if it is transparent) and turn on its LED.\n",
    "\n",
    "If the lens is too far away from the camera, you will be able to see it (probably out of focus) in the image. In this case the lens has become to the field stop of the system - it limits how much of the scene you can see. Make sure the lens is close enough that you can't see it in the image.\n"
   ]
  },
  {
   "cell_type": "code",
   "execution_count": null,
   "metadata": {},
   "outputs": [],
   "source": []
  },
  {
   "cell_type": "markdown",
   "metadata": {},
   "source": [
    "\n",
    "**Question**: The magnification is not affected by the distance between the magnifying lens and the camera. Why not?"
   ]
  },
  {
   "cell_type": "markdown",
   "metadata": {},
   "source": []
  },
  {
   "cell_type": "markdown",
   "metadata": {},
   "source": [
    "# Telescope\n",
    "\n",
    "A refracting astronomical telescope takes in parallel rays from distant objects and puts out parallel rays for the eye to receive. The output ray angles are higher thus increasing the aparent angular size of objects. The classic refractor has two lenses: a long focal length  _objective_ and a shorter focal length _eyepiece_. If the two lenses are focal length $f_o$ and $f_e$, separated by distance $L$  show that in order to produce required infinite object and image distances that $L=f_o + f_e$. What is the angular magnification in terms of the focal lengths?"
   ]
  },
  {
   "cell_type": "markdown",
   "metadata": {},
   "source": []
  },
  {
   "cell_type": "markdown",
   "metadata": {},
   "source": []
  },
  {
   "cell_type": "markdown",
   "metadata": {},
   "source": [
    "## Build the telescope\n",
    "\n",
    "Using the lenses you have available, build 3 different telescopes and measure their field of view just as you did for the camera alond. Check the angular magnifications are as expected from your calculations above. You will probably see the objective lens in the final image. The FOV should be measured only for the image seen _through both lenses_.  \n",
    "\n",
    "Show captured images through your telescopes in the notebook. Indicate which lenses you used for objective and eyepiece\n",
    "\n",
    "**Bonus:** Work out how big the objective lens would have to be so that you can't see it in the image."
   ]
  },
  {
   "cell_type": "markdown",
   "metadata": {},
   "source": []
  },
  {
   "cell_type": "code",
   "execution_count": null,
   "metadata": {},
   "outputs": [],
   "source": []
  },
  {
   "cell_type": "markdown",
   "metadata": {},
   "source": [
    "# Microscope\n",
    "\n",
    "In the telescope, the eyepiece is essentially a simple magnifier viewing the real image of the infintely far away object formed by the objective. In a microscope the eyepiece again looks at the image formed by the objective, but this time the objective is forming a magnified real image of a small object close to the objective.\n",
    "\n",
    "To build a microscope, set up your camera with a simple magnifier at the very end of the rail. Use a second lens with a short focal length and set it so that it will form an image at the focal point of the magnifier lens. The image formed by the objective should be real and magnified.\n",
    "\n",
    "Again work out the total system matrix and show your captured images. For the microscope you will definitely need your object to be well illuminated.\n"
   ]
  },
  {
   "cell_type": "code",
   "execution_count": null,
   "metadata": {},
   "outputs": [],
   "source": []
  },
  {
   "cell_type": "code",
   "execution_count": null,
   "metadata": {},
   "outputs": [],
   "source": []
  },
  {
   "cell_type": "code",
   "execution_count": null,
   "metadata": {},
   "outputs": [],
   "source": []
  }
 ],
 "metadata": {
  "kernelspec": {
   "display_name": "Python 3 (ipykernel)",
   "language": "python",
   "name": "python3"
  },
  "language_info": {
   "codemirror_mode": {
    "name": "ipython",
    "version": 3
   },
   "file_extension": ".py",
   "mimetype": "text/x-python",
   "name": "python",
   "nbconvert_exporter": "python",
   "pygments_lexer": "ipython3",
   "version": "3.7.13"
  }
 },
 "nbformat": 4,
 "nbformat_minor": 4
}
