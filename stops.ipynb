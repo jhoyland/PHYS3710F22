{
 "cells": [
  {
   "cell_type": "code",
   "execution_count": 3,
   "id": "624ecebd",
   "metadata": {},
   "outputs": [],
   "source": [
    "import numpy as np"
   ]
  },
  {
   "cell_type": "code",
   "execution_count": 26,
   "id": "fb4ad52e",
   "metadata": {},
   "outputs": [],
   "source": [
    "lens1=np.matrix(([1,0],[-1/52,1]))\n",
    "lens2=np.matrix(([1,0],[-1/40,1]))\n",
    "lens3=np.matrix(([1,0],[-1/19,1]))\n",
    "lens4=np.matrix(([1,0],[-1/33,1]))\n",
    "gap0=np.matrix(([1,56],[0,1])) #distance=56\n",
    "gap1=np.matrix(([1,15],[0,1])) #distance=15\n",
    "gap2=np.matrix(([1,55],[0,1])) #distance=55\n",
    "gap3=np.matrix(([1,20],[0,1])) #distance=20\n"
   ]
  },
  {
   "cell_type": "code",
   "execution_count": 27,
   "id": "f96f1f54",
   "metadata": {},
   "outputs": [
    {
     "name": "stdout",
     "output_type": "stream",
     "text": [
      "[[-0.67067308  9.90131579]\n",
      " [ 0.05301573 -2.27372408]]\n"
     ]
    }
   ],
   "source": [
    "systemmatrix=lens4*gap3*lens3*gap2*lens2*gap1*lens1\n",
    "print(systemmatrix)"
   ]
  },
  {
   "cell_type": "code",
   "execution_count": 28,
   "id": "b0549026",
   "metadata": {},
   "outputs": [
    {
     "name": "stdout",
     "output_type": "stream",
     "text": [
      "39.78435819262387\n"
     ]
    }
   ],
   "source": [
    "#So=56\n",
    "Imagedistance=-((56*systemmatrix[0,0])+systemmatrix[0,1])/(56*systemmatrix[1,0]+systemmatrix[1,1])\n",
    "print(Imagedistance)"
   ]
  },
  {
   "cell_type": "code",
   "execution_count": 29,
   "id": "3076286c",
   "metadata": {},
   "outputs": [
    {
     "name": "stdout",
     "output_type": "stream",
     "text": [
      "-0.7104349677254262\n"
     ]
    }
   ],
   "source": [
    "magnification=-(Imagedistance/56)\n",
    "print(magnification)"
   ]
  },
  {
   "cell_type": "code",
   "execution_count": 38,
   "id": "df5c7fa1",
   "metadata": {},
   "outputs": [
    {
     "name": "stdout",
     "output_type": "stream",
     "text": [
      "angle 1 is 0.44642857142857145\n",
      "angle 2 is 0.36465638148667606\n",
      "angle 3 is -0.34276851492826665\n",
      "angle 4 is -0.8135556002854579\n"
     ]
    }
   ],
   "source": [
    "#now to find out which one is the aperature stop\n",
    "angle1=25/gap0[0,1]\n",
    "\n",
    "element2=gap1*lens1*gap0\n",
    "element3=gap2*lens2*element2\n",
    "element4=gap3*lens3*element3\n",
    "\n",
    "angle2=20/(element2[0,1])\n",
    "angle3=8.5/(element3[0,1])\n",
    "angle4=22.5/(element4[0,1])\n",
    "\n",
    "print('angle 1 is',angle1)\n",
    "print('angle 2 is',angle2)\n",
    "print('angle 3 is',angle3)\n",
    "print('angle 4 is',angle4)\n",
    "\n",
    "#smallest angle means it is the aperature stop"
   ]
  },
  {
   "cell_type": "code",
   "execution_count": 68,
   "id": "3371022e",
   "metadata": {},
   "outputs": [
    {
     "name": "stdout",
     "output_type": "stream",
     "text": [
      "37.27767695099818\n",
      "-50.769230769230774\n"
     ]
    }
   ],
   "source": [
    "#now to find the entrance and exit pupils\n",
    "\n",
    "entrancepupil=lens1*gap1*lens2\n",
    "entrancepupildistance=-(55*entrancepupil[0,0]+entrancepupil[0,1])/(55*entrancepupil[1,0]+entrancepupil[1,1])\n",
    "print(entrancepupildistance)\n",
    "\n",
    "exitpupil=lens4\n",
    "exitpupildistance=-(20*exitpupil[0,0]+exitpupil[0,1])/(20*exitpupil[1,0]+exitpupil[1,1])\n",
    "print(exitpupildistance)"
   ]
  },
  {
   "cell_type": "code",
   "execution_count": 73,
   "id": "b1b2b837",
   "metadata": {},
   "outputs": [
    {
     "name": "stdout",
     "output_type": "stream",
     "text": [
      "-1.3354700854700856\n",
      "-1.0683760683760684\n",
      "-0.4540598290598291\n",
      "-1.201923076923077\n"
     ]
    }
   ],
   "source": [
    "#now to find the field stops (which affect FOV) which should be element 2\n",
    "#angle = r/B-Ad, d=18.72\n",
    "\n",
    "entrancepupilangle1=25/(lens1[0,1]-lens1[0,0]*18.72)\n",
    "print(entrancepupilangle1)\n",
    "entrancepupilangle2=20/(lens2[0,1]-lens2[0,0]*18.72)\n",
    "print(entrancepupilangle2)\n",
    "entrancepupilangle3=8.5/(lens3[0,1]-lens3[0,0]*18.72)\n",
    "print(entrancepupilangle3)\n",
    "entrancepupilangle4=22.5/(lens4[0,1]-lens4[0,0]*18.72)\n",
    "print(entrancepupilangle4)\n",
    "\n",
    "#exit window around 7\n",
    "#entrance window around -2.1"
   ]
  }
 ],
 "metadata": {
  "kernelspec": {
   "display_name": "Python 3",
   "language": "python",
   "name": "python3"
  },
  "language_info": {
   "codemirror_mode": {
    "name": "ipython",
    "version": 3
   },
   "file_extension": ".py",
   "mimetype": "text/x-python",
   "name": "python",
   "nbconvert_exporter": "python",
   "pygments_lexer": "ipython3",
   "version": "3.8.8"
  }
 },
 "nbformat": 4,
 "nbformat_minor": 5
}
