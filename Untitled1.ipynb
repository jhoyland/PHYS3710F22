{
 "cells": [
  {
   "cell_type": "code",
   "execution_count": 4,
   "id": "5d1c2aa5",
   "metadata": {},
   "outputs": [],
   "source": [
    "import cmath\n",
    "\n",
    "N = 1E28\n",
    "w_o = 1E16\n",
    "q_e = 1.602E-19\n",
    "gamma = 1E14\n",
    "m = 9.109E-31\n",
    "e_o = 8.854E-12\n",
    "\n",
    "A = N*q_e**2/((m*e_o))"
   ]
  },
  {
   "cell_type": "code",
   "execution_count": 5,
   "id": "a8c3b026",
   "metadata": {},
   "outputs": [],
   "source": [
    "def r_index(w):\n",
    "    n = cmath.sqrt(1+A*(1/(w_o**2-w**2-1j*gamma*w)))\n",
    "    return n"
   ]
  },
  {
   "cell_type": "code",
   "execution_count": null,
   "id": "cdb44d69",
   "metadata": {},
   "outputs": [],
   "source": [
    "w = np.linespace(1E17, 1E17, 1000)\n",
    "n_real = [index(x).real fo]"
   ]
  }
 ],
 "metadata": {
  "kernelspec": {
   "display_name": "Python 3 (ipykernel)",
   "language": "python",
   "name": "python3"
  },
  "language_info": {
   "codemirror_mode": {
    "name": "ipython",
    "version": 3
   },
   "file_extension": ".py",
   "mimetype": "text/x-python",
   "name": "python",
   "nbconvert_exporter": "python",
   "pygments_lexer": "ipython3",
   "version": "3.7.13"
  }
 },
 "nbformat": 4,
 "nbformat_minor": 5
}
