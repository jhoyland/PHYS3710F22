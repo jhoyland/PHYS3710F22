{
 "cells": [
  {
   "cell_type": "markdown",
   "id": "525e5f10",
   "metadata": {},
   "source": [
    "# Simulating the superposition of two waves"
   ]
  },
  {
   "cell_type": "code",
   "execution_count": null,
   "id": "8848d911",
   "metadata": {},
   "outputs": [],
   "source": [
    "import matplotlib.pyplot as plt\n",
    "import numpy as np\n",
    "import math\n",
    "import cmath"
   ]
  },
  {
   "cell_type": "markdown",
   "id": "b81400fb",
   "metadata": {},
   "source": [
    "This worksheet you will look at the superposition for two infinite plane waves with the same wavelength and frequency crossing each other at different angles while travelling in the x y plane. First, define the wavelength, `wvl` ($\\lambda$), the angles the two propagation vectors make with the x-axis, `theta1` and `theta2` ($\\theta_1 \\theta_2$) and the amplitudes of the two waves `A1` and `A2` ($E_1 E_2$)"
   ]
  },
  {
   "cell_type": "code",
   "execution_count": null,
   "id": "3c2a1dee",
   "metadata": {},
   "outputs": [],
   "source": [
    "wvl = 0.600\n",
    "theta1 = 0.1*math.pi\n",
    "theta2 = -0.1*math.pi\n",
    "k = math.pi / wvl\n",
    "E1 = 1\n",
    "E2 = 1"
   ]
  },
  {
   "cell_type": "markdown",
   "id": "28ec2632",
   "metadata": {},
   "source": [
    "Form the wavevectors $k_1$ and $k_2$ you have the angle the vectors make and their magnitude. You will use numpy arrays for the two vectors. "
   ]
  },
  {
   "cell_type": "code",
   "execution_count": null,
   "id": "07d1b7e8",
   "metadata": {},
   "outputs": [],
   "source": [
    "k1 = np.array([k * math.cos(theta1),k * math.sin(theta1)])\n",
    "k2 = np.array([k * math.cos(theta2),k * math.sin(theta2)])"
   ]
  },
  {
   "cell_type": "markdown",
   "id": "2313bd4b",
   "metadata": {},
   "source": [
    "We are going to plot the intensities of the resulting waveform over the xy plane so we need a set of x values and y values and also an empty 2D array to hold the results"
   ]
  },
  {
   "cell_type": "code",
   "execution_count": null,
   "id": "b780ca25",
   "metadata": {},
   "outputs": [],
   "source": [
    "xs = np.linspace(0,50,500)\n",
    "ys = np.linspace(-25,25,500)"
   ]
  },
  {
   "cell_type": "markdown",
   "id": "c9c57b0d",
   "metadata": {},
   "source": [
    "For each point in the 2D plane you just defined you are going to calculate the sum of the two waves: \n",
    "\n",
    "$ E = E_1 e^{i(\\vec{k_1} \\cdot \\vec{r}-\\omega t)} + E_2 e^{i( \\vec{k_2} \\cdot \\vec{r} -\\omega t)} $\n",
    "\n",
    "The code below steps over the range of x and y values we just created, calculating the intensity at each point. \n",
    "\n",
    "_Note on equations: the intensity formula should be $\\frac{1}{2} \\varepsilon_0 c EE^{\\ast}$ but we are just setting $\\frac{1}{2} \\varepsilon_0 c= 1$ because we are only interested in relative intensity._\n",
    "\n",
    "_Note on programming: on the last line we have to take the real part of $zz^{\\ast}$. Mathematically this isn't necessary as the result of that product is always real, but python treats the result as a complex number with zero imaginary part and some of the plotting functions don't like that._\n"
   ]
  },
  {
   "cell_type": "code",
   "execution_count": null,
   "id": "309c476f",
   "metadata": {},
   "outputs": [],
   "source": [
    "def add2planeWaves(k1,k2,x,y):\n",
    "    intensity = np.empty((x.size,y.size))\n",
    "\n",
    "    for rx in range(x.size):\n",
    "        for ry in range(y.size):\n",
    "            # Make the 'r' vector (this is just a location in space)\n",
    "            r = np.array([x[rx],y[ry]])\n",
    "            # Calculate the phase for each wave - note we are setting t=0 so we ignore the time part\n",
    "            phase1 = k1.dot(r)\n",
    "            phase2 = k2.dot(r)\n",
    "            # Create the complex waves\n",
    "            z1 = cmath.rect(1,phase1)\n",
    "            z2 = cmath.rect(1,phase2)\n",
    "            # Add the waves\n",
    "            z = z1 + z2\n",
    "            # Calculate the intensity and save it for that point\n",
    "            intensity[rx,ry] = (z * z.conjugate()).real\n",
    "    \n",
    "    return intensity"
   ]
  },
  {
   "cell_type": "markdown",
   "id": "4fc9ab85",
   "metadata": {},
   "source": [
    "This plots the intensity over the xy plane"
   ]
  },
  {
   "cell_type": "code",
   "execution_count": null,
   "id": "bd750e24",
   "metadata": {},
   "outputs": [],
   "source": [
    "intensity = add2planeWaves(k1,k2,xs,ys)"
   ]
  },
  {
   "cell_type": "code",
   "execution_count": null,
   "id": "a7c3f7e3",
   "metadata": {
    "scrolled": true
   },
   "outputs": [],
   "source": [
    "plt.imshow(intensity.T,extent=[0,50,-25,25])\n",
    "# .T takes the transpose of the array. Necessary as by default imshow would flip the x and y axes"
   ]
  },
  {
   "cell_type": "markdown",
   "id": "5288d157",
   "metadata": {},
   "source": [
    "You can also plot a graph of the intensity through a slice in the y direction. Writing `intensity[4]` here takes the 5th x value  of the array and plots it against the y-values"
   ]
  },
  {
   "cell_type": "code",
   "execution_count": null,
   "id": "7f8cb204",
   "metadata": {},
   "outputs": [],
   "source": [
    "plt.plot(ys,intensity[4])\n",
    "plt.ylim([0,5])"
   ]
  },
  {
   "cell_type": "markdown",
   "id": "1e31c620",
   "metadata": {},
   "source": [
    "## Task 1:\n",
    "\n",
    "Redo the caluclation with different values for the angles of the two k-vectors. Try them at angles which are symmetric about the x axis and asymmetric. Also find out what happens if the two vectors are 180 degrees out from each other. Answer the following questions:\n",
    "* In what direction do the intensity bands go in relation to the k-vectors?\n",
    "* What angular difference produces the largest and smallest spatial frequency?\n",
    "* What effect does changing one of the wave amplitudes have on the intensity profile (check this in the slice plot.\n",
    "* What is the effect of changing the wavelength?\n"
   ]
  },
  {
   "cell_type": "markdown",
   "id": "c2762029",
   "metadata": {},
   "source": []
  },
  {
   "cell_type": "markdown",
   "id": "eec050ca",
   "metadata": {},
   "source": []
  },
  {
   "cell_type": "markdown",
   "id": "a1e4c922",
   "metadata": {},
   "source": []
  },
  {
   "cell_type": "markdown",
   "id": "e69ff578",
   "metadata": {},
   "source": [
    "# Task 2: Spherical waves\n",
    "\n",
    "What if instead of plane waves we have two spherical waves? Rewrite the plane wave function above to simulate two spherical waves. Spherical waves are given by the equation:\n",
    "\n",
    "$E = \\frac{E_0}{d} e^{i(\\vec{k_1} \\cdot \\vec{r}-\\omega t)} $\n",
    "\n",
    "The difference here is the k-vector is now different for every point as it radiates from a single point. You will need to define a vector for where the source point is for the two waves. Call them `s1` and `s2`. ($\\vec{s_1}$ and $\\vec{s_2}$).  The k vector will point in the direction from the s-vector to the r vector. So your function will have to calculate the direction of the k-vector for each r point before doing the dot product. \n",
    "The other difference is the $d$ is not the actual distance from the source point to the r-point so your function will need to calculate that too.\n",
    "A final difficulty: you must avoid the singularity! As d goes to zero the amplitude becomes infinite. Even if it's close the size of the amplitude will dwarf the interference pattern. Suggestion: work out d first and if it is more  than say 3 times E_0 just set it to 3 times E_0. \n",
    "\n",
    "Try the simulation as before for some different source positions."
   ]
  },
  {
   "cell_type": "code",
   "execution_count": null,
   "id": "41ab23be",
   "metadata": {},
   "outputs": [],
   "source": [
    "def add2sphericalWaves(k,s1,s2,x,y):\n",
    "    intensity = np.empty((x.size,y.size))\n",
    "\n",
    "    for rx in range(x.size):\n",
    "        for ry in range(y.size):\n",
    "            # Make the 'r' vector (this is just a location in space)\n",
    "           \n",
    "            # Calculate the distance from s1 to r \n",
    "            \n",
    "            # Calculate the distance from s2 to r\n",
    "            \n",
    "            # (if d is small set amplitude to high, square it and set the intesity directly)\n",
    "            \n",
    "            # Calculate the k1 vector\n",
    "            \n",
    "            # Calculate the k2 vector\n",
    "            \n",
    "            # Calculate the phase for each wave - note we are setting t=0 so we ignore the time part\n",
    "\n",
    "            # Create the complex waves\n",
    "\n",
    "            # Add the waves\n",
    "\n",
    "            # Calculate the intensity and save it for that point\n",
    "            \n",
    "            intensity[rx,ry] = (z * z.conjugate()).real\n",
    "    \n",
    "    return intensity"
   ]
  }
 ],
 "metadata": {
  "kernelspec": {
   "display_name": "Python 3 (ipykernel)",
   "language": "python",
   "name": "python3"
  },
  "language_info": {
   "codemirror_mode": {
    "name": "ipython",
    "version": 3
   },
   "file_extension": ".py",
   "mimetype": "text/x-python",
   "name": "python",
   "nbconvert_exporter": "python",
   "pygments_lexer": "ipython3",
   "version": "3.7.13"
  }
 },
 "nbformat": 4,
 "nbformat_minor": 5
}
